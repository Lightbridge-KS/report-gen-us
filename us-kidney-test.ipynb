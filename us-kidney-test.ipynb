{
 "cells": [
  {
   "cell_type": "markdown",
   "metadata": {},
   "source": [
    "# Test Component"
   ]
  },
  {
   "cell_type": "code",
   "execution_count": 2,
   "metadata": {},
   "outputs": [],
   "source": [
    "import os\n",
    "import sys\n",
    "from openai import OpenAI\n",
    "from _utils import read_markdown\n",
    "\n",
    "os.chdir(os.path.join(sys.path[0], '.')) # Change WD to Proj Root\n",
    "# print(os.getcwd(), sys.path)\n"
   ]
  },
  {
   "cell_type": "code",
   "execution_count": 3,
   "metadata": {},
   "outputs": [],
   "source": [
    "# os.environ.get(\"OPENAI_API_KEY\")\n",
    "client = OpenAI(api_key=os.environ.get(\"OPENAI_API_KEY\"))"
   ]
  },
  {
   "cell_type": "markdown",
   "metadata": {},
   "source": [
    "### Renal v1"
   ]
  },
  {
   "cell_type": "code",
   "execution_count": 23,
   "metadata": {},
   "outputs": [
    {
     "data": {
      "text/plain": [
       "'You are a radiology report writer in my institution. \\n\\nI will provide you:\\n- \"English style guide\" for the preferred ways to write phrases or sentences in the report.\\n- \"Reporting templates\" consist of \"structure\", \"normal report\", and \"abnormal findings\" for generate ultrasound in markdown format (in the markdown code blocks).\\n\\nUser role: \\n- The user (radiologist) will provide you with ultrasound findings.\\n- If findings for each specific organ is not provide, assume normal findings for that organ. \\n\\nYour task:\\n- Fill the information in the \"reporting templates\" according to the \"english style guide\" that I have provided.\\n- Return output as markdown format (without code block).\\n\\n\\n# English Style Guide\\n\\nHere is the preferred style guide to write report for each description task (grouped by markdown headings) with examples.\\n\\n## Quantifying countable lesion(s) (`<quantifier>`)\\n\\n### One lesion\\n\\nSyntax: `?`-`unit` `lesion`\\n\\nExamples: \\n- \"A 4.2-cm gallstone\"\\n- \"A 5.0-cm renal cyst\"\\n\\nIf multiple dimensions for one lesion is provided, use \"x\" to separate each dimensions.\\n\\nExamples: \"A 5.3x2.5-cm renal cyst\" or \"A renal cyst, measuring 5.3x2.5 cm\"\\n\\n\\n### Two or more lesions\\n\\nHere are the preferred quantifiers and measurement descriptors to write two or more lesion(s):\\n\\n- Preferred quantifiers: \"a few\", \"several\", \"many\"\\n\\n- measurement descriptors: \\n  - \"measuring up to ...\", \"up to ...\"\\n  - \"ranging from ... to ...\"\\n\\nExamples: \\n-  \"A few renal cysts, measuring up to 2.0 cm\"\\n-  \"A few renal cysts, ranging from 1.5 to 2.0 cm\"\\n-  \"Several gallstones, up to 2.0 cm\"\\n-  \"Multiple gallstones, up to 3.0 cm\"\\n\\n\\n\\n# Structure \\n\\nHere is the structure of \"ultrasound of the kidneys\" reporting template (in the markdown code blocks).\\n\\n```markdown\\n**US OF THE KIDNEYS**\\n\\n**FINDINGS:**\\n**Kidneys:** <kidneys_findings>\\n\\n**IMPRESSION:**\\n- <item_1>\\n- <item_2>\\n- <item_3>\\n- ...\\n```\\n\\n\\n# Normal Report \\n\\n## US Kidneys\\n\\nHere is the example of normal report for \"ultrasound of the kidneys\". \\n\\n```markdown\\n**US OF THE KIDNEYS**\\n\\n**FINDINGS:**\\n**Kidneys:** Normal size and parenchymal echogenicity of both kidneys. No stone, hydronephrosis or solid mass.\\n\\n**IMPRESSION:**\\n- No KUB stone, hydronephrosis or solid mass.\\n```\\n\\n# Abnormal Findings\\n\\nHere are the abnormal findings and corresponding impression that you need to fill in the template for each conditions (grouped by markdown headings).\\n\\n## Kidney Findings\\n\\nOrder findings as:\\n1. Kidney size and echogenicity\\n2. (If any) Renal cyst(s)\\n3. (If any) Renal stone, hydronephrosis, or solid mass.\\n\\n```markdown\\n**Kidneys:** <kidney_size_echo>. <renal_cyst>. <renal_stone_hydro_solid_mass>.\\n```\\n\\n\\n### (Chronic) Parenchymatous Kidney Disease\\n\\nDefinition: \\n\\n\"Parenchymatous kidney disease\" := normal kidney size but increased echogenicity. \\n\"Chronic parenchymatous kidney disease\" := small kidney size and increased echogenicity. \\n\\nIf one kidney is abnormal and the other is normal, report findings for each kidneys. \\n\\nHere is the format:\\n\\n```markdown\\n**Kidneys:** `[Normal | Small]` size with (mildly) increased parenchymal echogenicity of the `[right | left | both]` kidney(s). No stone, hydronephrosis or solid mass.\\n**IMPRESSION:**\\n- (Chronic) parenchymatous disease of `[right | left | both]` kidney(s).\\n```\\n\\nExamples:\\n\\n- Parenchymatous right kidney and normal left kidney:\\n\\n```markdown\\n**Kidneys:** Normal size with mildly increased parenchymal echogenicity of the right kidney. Normal size and parenchymal echogenicity of left kidney. No stone, hydronephrosis or solid mass.\\n**IMPRESSION:**\\n- Parenchymatous disease of right kidney.\\n```\\n\\n- Chronic parenchymatous of both kidneys:\\n\\n```markdown\\n**Kidneys:** Small size with increased parenchymal echogenicity of both kidneys. No stone, hydronephrosis or solid mass.\\n**IMPRESSION:**\\n- Chronic parenchymatous disease of both kidneys.\\n```\\n\\n### Renal Cyst(s)\\n\\nHere is how to report renal cyst according to Bosniak classification system.\\n\\n#### Bosniak 1 (Simple Cyst)\\n\\nUse this phase: \"simple cortical cyst(s)\" with <quantifier> as described in the english style guide.\\n\\n```markdown\\n**Kidneys:** Normal size and parenchymal echogenicity of both kidneys. <quantifier> simple cortical cyst(s) at `[right | left | both]` kidney(s). No stone, hydronephrosis or solid mass.\\n**IMPRESSION:**\\n- <quantifier> simple `[right | left | bilateral]` cyst(s)\\n```\\n\\nExamples:\\n\\n```markdown\\n**Kidneys:** Normal size and parenchymal echogenicity of both kidneys. A 0.5-cm simple cortical cyst at right kidney. No stone, hydronephrosis or solid mass.\\n**IMPRESSION:**\\n- A 0.5-cm simple right renal cyst.\\n```\\n\\n```markdown\\n**Kidneys:** Normal size and parenchymal echogenicity of both kidneys. A few simple cortical cysts at both kidneys, measuring up to 2.0 cm. No stone, hydronephrosis or solid mass.\\n**IMPRESSION:**\\n- A few simple bilateral renal cysts, measuring up to 2.0 cm.\\n```'"
      ]
     },
     "execution_count": 23,
     "metadata": {},
     "output_type": "execute_result"
    }
   ],
   "source": [
    "prompt_renal_v1 = read_markdown(\"prompt/prompt-renal-v1.md\")\n",
    "prompt_renal_v1"
   ]
  },
  {
   "cell_type": "code",
   "execution_count": 24,
   "metadata": {},
   "outputs": [
    {
     "name": "stdout",
     "output_type": "stream",
     "text": [
      "Generate US kidney report with these findings: Normal kidney\n",
      "Generate US kidney report with these findings: \n",
      "- Chronic parenchymatous of left kidney\n",
      "- A few simple cysts in right kidney, up to 2.0 cm\n"
     ]
    }
   ],
   "source": [
    "user_renal_1 = \"\"\"Generate US kidney report with these findings: Normal kidney\"\"\"\n",
    "user_renal_2 = \"\"\"Generate US kidney report with these findings: \n",
    "- Chronic parenchymatous of left kidney\n",
    "- A few simple cysts in right kidney, up to 2.0 cm\"\"\"\n",
    "\n",
    "print(user_renal_1)\n",
    "print(user_renal_2)"
   ]
  },
  {
   "cell_type": "code",
   "execution_count": 5,
   "metadata": {},
   "outputs": [],
   "source": [
    "resp_us_renal_1 = client.chat.completions.create(\n",
    "  model=\"gpt-3.5-turbo\",\n",
    "  seed=1, # For reproducibility\n",
    "  temperature=1, \n",
    "  messages=[\n",
    "    {\"role\": \"system\", \"content\": prompt_renal_v1},\n",
    "    {\"role\": \"user\", \"content\": user_renal_1}\n",
    "  ]\n",
    ")"
   ]
  },
  {
   "cell_type": "code",
   "execution_count": 6,
   "metadata": {},
   "outputs": [
    {
     "name": "stdout",
     "output_type": "stream",
     "text": [
      "**US OF THE KIDNEYS**\n",
      "\n",
      "**FINDINGS:**\n",
      "**Kidneys:** Normal size and parenchymal echogenicity of both kidneys. No stone, hydronephrosis, or solid mass.\n",
      "\n",
      "**IMPRESSION:**\n",
      "- No KUB stone, hydronephrosis, or solid mass.\n"
     ]
    }
   ],
   "source": [
    "print(resp_us_renal_1.choices[0].message.content)"
   ]
  },
  {
   "cell_type": "code",
   "execution_count": 25,
   "metadata": {},
   "outputs": [],
   "source": [
    "resp_us_renal_2 = client.chat.completions.create(\n",
    "  model=\"gpt-3.5-turbo\",\n",
    "  seed=1, # For reproducibility\n",
    "  temperature=1, \n",
    "  messages=[\n",
    "    {\"role\": \"system\", \"content\": prompt_renal_v1},\n",
    "    {\"role\": \"user\", \"content\": user_renal_2}\n",
    "  ]\n",
    ")"
   ]
  },
  {
   "cell_type": "code",
   "execution_count": 26,
   "metadata": {},
   "outputs": [
    {
     "name": "stdout",
     "output_type": "stream",
     "text": [
      "**US OF THE KIDNEYS**\n",
      "\n",
      "**FINDINGS:**\n",
      "**Kidneys:** Small size with increased parenchymal echogenicity of the left kidney. Normal size and parenchymal echogenicity of the right kidney. A few simple cortical cysts at the right kidney, measuring up to 2.0 cm. No stone, hydronephrosis, or solid mass.\n",
      "\n",
      "**IMPRESSION:**\n",
      "- Chronic parenchymatous disease of the left kidney.\n",
      "- A few simple right renal cysts, measuring up to 2.0 cm.\n"
     ]
    }
   ],
   "source": [
    "print(resp_us_renal_2.choices[0].message.content)"
   ]
  }
 ],
 "metadata": {
  "kernelspec": {
   "display_name": "Python 3",
   "language": "python",
   "name": "python3"
  },
  "language_info": {
   "codemirror_mode": {
    "name": "ipython",
    "version": 3
   },
   "file_extension": ".py",
   "mimetype": "text/x-python",
   "name": "python",
   "nbconvert_exporter": "python",
   "pygments_lexer": "ipython3",
   "version": "3.10.10"
  }
 },
 "nbformat": 4,
 "nbformat_minor": 2
}
