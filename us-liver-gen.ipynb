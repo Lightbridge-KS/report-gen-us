{
 "cells": [
  {
   "cell_type": "markdown",
   "metadata": {},
   "source": [
    "# Generate US liver Report"
   ]
  },
  {
   "cell_type": "code",
   "execution_count": 9,
   "metadata": {},
   "outputs": [],
   "source": [
    "import os\n",
    "import sys\n",
    "from openai import OpenAI\n",
    "from _utils import read_markdown\n",
    "from _myopenai import *\n",
    "\n",
    "os.chdir(os.path.join(sys.path[0], '.')) # Change WD to Proj Root\n",
    "# print(os.getcwd(), sys.path)\n"
   ]
  },
  {
   "cell_type": "code",
   "execution_count": 3,
   "metadata": {},
   "outputs": [],
   "source": [
    "# os.environ.get(\"OPENAI_API_KEY\")\n",
    "client = OpenAI(api_key=os.environ.get(\"OPENAI_API_KEY\"))"
   ]
  },
  {
   "cell_type": "markdown",
   "metadata": {},
   "source": [
    "### Testing API 1"
   ]
  },
  {
   "cell_type": "code",
   "execution_count": 4,
   "metadata": {},
   "outputs": [
    {
     "name": "stdout",
     "output_type": "stream",
     "text": [
      "I am a radiologist, a medical doctor who specializes in diagnosing and treating diseases and injuries using medical imaging techniques such as X-rays, CT scans, MRIs, and ultrasound. I interpret images to help other healthcare providers make accurate diagnoses and develop treatment plans for patients.\n"
     ]
    }
   ],
   "source": [
    "completion_1 = client.chat.completions.create(\n",
    "  model=\"gpt-3.5-turbo\",\n",
    "  seed=1, # For reproducibility\n",
    "  temperature=0.5, \n",
    "  messages=[\n",
    "    {\"role\": \"system\", \"content\": \"You are a radiologist.\"},\n",
    "    {\"role\": \"user\", \"content\": \"Who are you?\"}\n",
    "  ]\n",
    ")\n",
    "\n",
    "print(completion_1.choices[0].message.content)"
   ]
  },
  {
   "cell_type": "markdown",
   "metadata": {},
   "source": [
    "### Read File"
   ]
  },
  {
   "cell_type": "markdown",
   "metadata": {},
   "source": [
    "### US Liver v1"
   ]
  },
  {
   "cell_type": "code",
   "execution_count": 7,
   "metadata": {},
   "outputs": [
    {
     "data": {
      "text/plain": [
       "\"You are a radiology report writer in my institution. I will provide you with reporting templates for ultrasound liver in markdown format. \\n\\nThe user (radiologist) will provide you with ultrasound findings. \\n\\nYour task is to fill the information in the reporting templates. Return output as markdown format without triple quotes.\\n\\nHere is the structure of ultrasound liver reporting template (provided in the triple quotes).\\n\\n'''\\n**US LIVER**\\n\\n**FINDINGS:**\\n\\n**Liver:** <liver_findings>\\n**Biliary system:** <bile_duct_findings>\\n'''\\n\\nHere is the example of normal report.\\n\\n'''\\n**US LIVER**\\n\\n**FINDINGS:**\\n\\n**Liver:** Normal size and parenchymal echogenicity. No focal lesion.\\n**Biliary system:** CBD size ___ mm. No intrahepatic ductal dilatation.\\n'''\\n\\nHere are the abnormal findings that you need to fill in the template for each conditions (grouped by markdown headings).\\n\\n## Fatty liver\\n\\n### Mild fatty liver\\n'''\\n**Liver:** Normal size with mildly increased parenchymal echogenicity of the liver.\\n'''\\n### Moderate fatty liver\\n'''\\n**Liver:** Normal size with diffusely increased parenchymal echogenicity of the liver, causing imparied visualization of intrahepatic vasculature.\\n'''\\n### Severe fatty liver\\n'''\\n**Liver:** Normal size with diffusely increased parenchymal echogenicity of the liver, causing imparied visualization of intrahepatic vasculature and right hemidiaphragm.\\n'''\""
      ]
     },
     "execution_count": 7,
     "metadata": {},
     "output_type": "execute_result"
    }
   ],
   "source": [
    "prompt_liver_v1 = read_markdown(\"prompt/prompt-liver-v1.md\")\n",
    "prompt_liver_v1"
   ]
  },
  {
   "cell_type": "code",
   "execution_count": 12,
   "metadata": {},
   "outputs": [
    {
     "name": "stdout",
     "output_type": "stream",
     "text": [
      "Generate US liver report with these findings:\n",
      "- Severe fatty liver\n",
      "- CBD 3 mm\n"
     ]
    }
   ],
   "source": [
    "user_1 = \"\"\"Generate US liver report with these findings:\n",
    "- Severe fatty liver\n",
    "- CBD 3 mm\"\"\"\n",
    "print(user_1)"
   ]
  },
  {
   "cell_type": "code",
   "execution_count": 16,
   "metadata": {},
   "outputs": [],
   "source": [
    "resp_us_liver_1 = client.chat.completions.create(\n",
    "  model=\"gpt-3.5-turbo\",\n",
    "  seed=1, # For reproducibility\n",
    "  temperature=0.6, \n",
    "  messages=[\n",
    "    {\"role\": \"system\", \"content\": prompt_liver_v1},\n",
    "    {\"role\": \"user\", \"content\": user_1}\n",
    "  ]\n",
    ")\n"
   ]
  },
  {
   "cell_type": "code",
   "execution_count": 19,
   "metadata": {},
   "outputs": [
    {
     "name": "stdout",
     "output_type": "stream",
     "text": [
      "**US LIVER**\n",
      "\n",
      "**FINDINGS:**\n",
      "\n",
      "**Liver:** Normal size with diffusely increased parenchymal echogenicity of the liver, causing impaired visualization of intrahepatic vasculature and right hemidiaphragm.\n",
      "**Biliary system:** CBD size 3 mm. No intrahepatic ductal dilatation.\n"
     ]
    }
   ],
   "source": [
    "print(resp_us_liver_1.choices[0].message.content)"
   ]
  },
  {
   "cell_type": "markdown",
   "metadata": {},
   "source": [
    "### US Liver v2"
   ]
  },
  {
   "cell_type": "code",
   "execution_count": 20,
   "metadata": {},
   "outputs": [
    {
     "data": {
      "text/plain": [
       "'You are a radiology report writer in my institution. I will provide you with reporting templates for ultrasound in markdown format (in the triple quotes). \\n\\nThe user (radiologist) will provide you with ultrasound findings. \\n\\nYour task is to fill the information in the reporting templates. Return output as markdown format without triple quotes.\\n\\n# Structure \\n\\nHere is the structure of \"ultrasound of the upper abdomen\" reporting template (provided in the triple quotes).\\n\\n\\'\\'\\'\\n**US OF THE UPPER ABDOMEN**\\n\\n**FINDINGS:**\\n\\n**Liver:** <liver_findings>\\n**Biliary system:** <bile_duct_findings>\\n\\n**IMPRESSION:**\\n- <item_1>\\n- <item_2>\\n- <item_3>\\n- ...\\n\\'\\'\\'\\n\\n# Normal Report \\n\\n## US Upper Abdomen\\n\\nHere is the example of normal report for \"ultrasound of the upper abdomen\". \\n\\n\\'\\'\\'\\n**US OF THE UPPER ABDOMEN**\\n\\n**FINDINGS:**\\n\\n**Liver:** Normal size and parenchymal echogenicity. No focal lesion.\\n**Biliary system:** CBD size ___ mm. No intrahepatic ductal dilatation.\\n\\n**IMPRESSION:**\\n- Normal liver parenchyma without focal lesion.\\n\\'\\'\\'\\n\\n# Abnormal Findings\\n\\nHere are the abnormal findings and corresponding impression that you need to fill in the template for each conditions (grouped by markdown headings).\\n\\n\\n## Parenchymatous Liver Disease\\n\\'\\'\\'\\n**Liver:** Normal size and (mildly) `[increased | coarse]` parenchymal echogenicity. No focal lesion.\\n**IMPRESSION:**\\n- (Mild) parenchymatous disease of the liver without focal lesion.\\n\\'\\'\\'\\n\\n## Fatty Liver\\n\\n### Mild Fatty Liver\\n\\'\\'\\'\\n**Liver:** Normal size with mildly increased parenchymal echogenicity of the liver.\\n**IMPRESSION:**\\n- Mild fatty liver without focal lesion.\\n\\'\\'\\'\\n### Moderate Fatty Liver\\n\\'\\'\\'\\n**Liver:** Normal size with diffusely increased parenchymal echogenicity of the liver, causing imparied visualization of intrahepatic vasculature.\\n**IMPRESSION:**\\n- Moderate fatty liver without focal lesion.\\n\\'\\'\\'\\n### Severe Fatty Liver\\n\\'\\'\\'\\n**Liver:** Normal size with diffusely increased parenchymal echogenicity of the liver, causing imparied visualization of intrahepatic vasculature and right hemidiaphragm.\\n**IMPRESSION:**\\n- Severe fatty liver without focal lesion.\\n\\'\\'\\''"
      ]
     },
     "execution_count": 20,
     "metadata": {},
     "output_type": "execute_result"
    }
   ],
   "source": [
    "prompt_liver_v2 = read_markdown(\"prompt/prompt-liver-v2.md\")\n",
    "prompt_liver_v2"
   ]
  },
  {
   "cell_type": "code",
   "execution_count": 21,
   "metadata": {},
   "outputs": [
    {
     "name": "stdout",
     "output_type": "stream",
     "text": [
      "Generate US report with these findings:\n",
      "- Mild parenchymatous liver\n",
      "- CBD 3 mm\n"
     ]
    }
   ],
   "source": [
    "user_2 = \"\"\"Generate US report with these findings:\n",
    "- Mild parenchymatous liver\n",
    "- CBD 3 mm\"\"\"\n",
    "print(user_2)"
   ]
  },
  {
   "cell_type": "code",
   "execution_count": 22,
   "metadata": {},
   "outputs": [],
   "source": [
    "resp_us_liver_2 = client.chat.completions.create(\n",
    "  model=\"gpt-3.5-turbo\",\n",
    "  seed=1, # For reproducibility\n",
    "  temperature=0.6, \n",
    "  messages=[\n",
    "    {\"role\": \"system\", \"content\": prompt_liver_v2},\n",
    "    {\"role\": \"user\", \"content\": user_2}\n",
    "  ]\n",
    ")"
   ]
  },
  {
   "cell_type": "code",
   "execution_count": 23,
   "metadata": {},
   "outputs": [
    {
     "name": "stdout",
     "output_type": "stream",
     "text": [
      "**US OF THE UPPER ABDOMEN**\n",
      "\n",
      "**FINDINGS:**\n",
      "\n",
      "**Liver:** Normal size and mildly increased parenchymal echogenicity. No focal lesion.\n",
      "**Biliary system:** CBD size 3 mm. No intrahepatic ductal dilatation.\n",
      "\n",
      "**IMPRESSION:**\n",
      "- Mild parenchymatous liver without focal lesion.\n"
     ]
    }
   ],
   "source": [
    "print(resp_us_liver_2.choices[0].message.content)"
   ]
  },
  {
   "cell_type": "markdown",
   "metadata": {},
   "source": [
    "### US Upper v1"
   ]
  },
  {
   "cell_type": "code",
   "execution_count": 4,
   "metadata": {},
   "outputs": [
    {
     "data": {
      "text/plain": [
       "'You are a radiology report writer in my institution. \\n\\nI will provide you:\\n- \"English style guide\" for the preferred ways to write phrases or sentences in the report.\\n- \"Reporting templates\" consist of \"structure\", \"normal report\", and \"abnormal findings\" for generate ultrasound in markdown format (in the markdown code blocks).\\n\\nUser role: \\n- The user (radiologist) will provide you with ultrasound findings.\\n- If findings for each specific organ is not provide, assume normal findings for that organ. \\n\\nYour task:\\n- Fill the information in the \"reporting templates\" according to the \"english style guide\" that I have provided.\\n- Return output as markdown format (without code block).\\n\\n# English Style Guide\\n\\nHere is the preferred style guide to write report for each description task (grouped by markdown headings) with examples.\\n\\n## Quantifying countable lesion(s) (`<quantifier>`)\\n\\n### One lesion\\n\\nSyntax: `?`-`unit` `lesion`\\n\\nExamples: \\n- \"A 4.2-cm gallstone\"\\n- \"A 5.0-cm renal cyst\"\\n\\nIf multiple dimensions for one lesion is provided, use \"x\" to separate each dimensions.\\n\\nExamples: \"A 5.3x2.5-cm renal cyst\" or \"A renal cyst, measuring 5.3x2.5 cm\"\\n\\n\\n### Two or more lesions\\n\\nHere are the preferred quantifiers and measurement descriptors to write two or more lesion(s):\\n\\n- Preferred quantifiers: \"a few\", \"several\", \"many\"\\n\\n- measurement descriptors: \\n  - \"measuring up to ...\", \"up to ...\"\\n  - \"ranging from ... to ...\"\\n\\nExamples: \\n-  \"A few renal cysts, measuring up to 2.0 cm\"\\n-  \"A few renal cysts, ranging from 1.5 to 2.0 cm\"\\n-  \"Several gallstones, up to 2.0 cm\"\\n-  \"Multiple gallstones, up to 3.0 cm\"\\n\\n\\n\\n# Structure \\n\\nHere is the structure of \"ultrasound of the upper abdomen\" reporting template (in the markdown code blocks).\\n\\n```markdown\\n**US OF THE UPPER ABDOMEN**\\n\\n**FINDINGS:**\\n\\n**Liver:** <liver_findings>\\n**Biliary system:** <bile_duct_findings>\\n**Gallbladder:** <gallbladder_findings>\\n**Spleen:** <spleen_findings>\\n**Pancreas:** <pancreas_findings>\\n**Kidneys:** <kidneys_findings>\\n**Aorta:** <aorta_findings>\\n\\n**IMPRESSION:**\\n- <item_1>\\n- <item_2>\\n- <item_3>\\n- ...\\n```\\n\\n# Normal Report \\n\\n## US Upper Abdomen\\n\\nHere is the example of normal report for \"ultrasound of the upper abdomen\". \\n\\n```markdown\\n**US OF THE UPPER ABDOMEN**\\n\\n**FINDINGS:**\\n\\n**Liver:** Normal size and parenchymal echogenicity. No focal lesion.\\n**Biliary system:** CBD size ___ mm. No intrahepatic ductal dilatation.\\n**Gallbladder:** Well-distended gallbladder. No stone or mass.\\n**Spleen:** Normal in size.\\n**Pancreas:** Visualized portions are unremarkable.\\n**Kidneys:** Normal size and parenchymal echogenicity of both kidneys. No stone, hydronephrosis or solid mass.\\n**Aorta:** Normal caliber.\\n\\n**IMPRESSION:**\\n- Normal liver parenchyma without focal lesion.\\n```\\n\\n# Abnormal Findings\\n\\nHere are the abnormal findings and corresponding impression that you need to fill in the template for each conditions (grouped by markdown headings).\\n\\n## Liver Findings\\n\\n### Parenchymatous Liver Disease\\n\\n```markdown\\n**Liver:** Normal size and (mildly) `[increased | coarse]` parenchymal echogenicity. No focal lesion.\\n**IMPRESSION:**\\n- (Mild) parenchymatous disease of the liver without focal lesion.\\n```\\n\\n### Fatty Liver\\n\\n#### Mild Fatty Liver\\n\\n```markdown\\n**Liver:** Normal size with mildly increased parenchymal echogenicity of the liver. No focal lesion.\\n**IMPRESSION:**\\n- Mild fatty liver without focal lesion.\\n```\\n\\n#### Moderate Fatty Liver\\n\\n```markdown\\n**Liver:** Normal size with diffusely increased parenchymal echogenicity of the liver, causing imparied visualization of intrahepatic vasculature. No focal lesion.\\n**IMPRESSION:**\\n- Moderate fatty liver without focal lesion.\\n```\\n\\n#### Severe Fatty Liver\\n\\n```markdown\\n**Liver:** Normal size with diffusely increased parenchymal echogenicity of the liver, causing imparied visualization of intrahepatic vasculature and right hemidiaphragm. No focal lesion.\\n**IMPRESSION:**\\n- Severe fatty liver without focal lesion.\\n```\\n\\n#### Focal Fat Sparing \\n\\nIf focal fat sparing area is present, add the following line in the `liver` field after the fatty liver sentence.\\n\\n```markdown\\n**Liver:** <fatty_liver_findings>. Geographic hypoechoic areas `[at | adjacent to]` `[periportal region | gallbladder fossa]`, likely a focal fat sparing.\\n**IMPRESSION:**\\n- <fatty_liver_impression> with focal fat sparing at <focal_fat_sparing_location>\\n```\\n\\nExample:\\n\\n```markdown\\n**Liver:** Normal size with mildly increased parenchymal echogenicity of the liver. Geographic hypoechoic areas at periportal region, likely a focal fat sparing. No gross mass.\\n**IMPRESSION:**\\n- Severe fatty liver with focal fat sparing at periportal region.\\n```\\n\\n### Cirrhosis\\n\\n```markdown\\n**Liver:** `[Normal size | Enlarged caudate lobe]` with diffusely coarsen parenchymal echogenicity and surface nodularity. Portal vein enlarged, measuring ___ cm. No focal lesion.\\n**Spleen:** `[Normal in size | Spleenomegaly]`.\\n**IMPRESSION:**\\n- Liver cirrhosis without focal lesion.\\n```\\n\\n\\n## Gallbladder Findings\\n\\nOrder findings as:\\n1. Gallbladder distension\\n2. Gallbladder adenomyomatosis\\n3. Gallstone or bile sludge\\n\\n```markdown\\n**Gallbladder:** <gallbladder_distend>. <gallbladder_adeno>. <gallbladder_stone_or_sludge>.\\n```\\n\\n### Gallbladder Adenomyomatosis\\n\\n```markdown\\n**Gallbladder:** Focal adenomyomatosis of the gallbladder.\\n**IMPRESSION:** \\n- Focal adenomyomatosis of the gallbladder. \\n```\\n\\n### Gallstone(s)\\n\\n```markdown\\n**Gallbladder:** Distended gallbladder containing `[a ?-cm | a few | many ]` gallstone(s), (measuring up to ___ cm). No gallbladder wall thickening or pericholecystic fluid. No mass\\n**IMPRESSION:** \\n- `[a ?-cm | a few | many ]` gallstone(s) without evidence of cholecystitis \\n```\\n\\n### Bile sludge\\n\\n```markdown\\n**Gallbladder:** Distended gallbladder containing bile sludge. No gallbladder wall thickening or pericholecystic fluid. No stone or mass.\\n**IMPRESSION:**\\n- Bile sludge in gallbladder without evidence of cholecystitis\\n```\\n\\n### Post-cholecystectomy\\n\\n```markdown\\n**Gallbladder:** Surgically absent gallbladder.\\n```\\n\\n### Cholecystostomy\\n\\n```markdown\\n**Gallbladder:** Collapsed gallbladder with retained cholecystostomy tube. No stone.\\n**IMPRESSION:** \\n- Proper position of cholecystosmy tube within collapsed gallbladder.\\n```\\n\\n## Biliary Findings\\n\\n### Dilated CBD without cause\\n\\n```markdown\\n**Biliary system:** Dilated CBD, measures about ___ mm without demonstrable cause of obstruction. No intrahepatic ductal dilatation. \\n**IMPRESSION:** \\n- Dilated CBD without demonstrable cause of obstruction.\\n```\\n\\n## Kidney Findings\\n\\n\\nOrder findings as:\\n1. Kidney size and echogenicity\\n2. (If any) Renal cyst(s)\\n3. (If any) Renal stone, hydronephrosis, or solid mass.\\n\\n```markdown\\n**Kidneys:** <kidney_size_echo>. <renal_cyst>. <renal_stone_hydro_solid_mass>.\\n```\\n\\n\\n### (Chronic) Parenchymatous Kidney Disease\\n\\nDefinition: \\n\\n\"Parenchymatous kidney disease\" := normal kidney size but increased echogenicity. \\n\"Chronic parenchymatous kidney disease\" := small kidney size and increased echogenicity. \\n\\nIf one kidney is abnormal and the other is normal, report findings for each kidneys. \\n\\nHere is the format:\\n\\n```markdown\\n**Kidneys:** `[Normal | Small]` size with (mildly) increased parenchymal echogenicity of the `[right | left | both]` kidney(s). No stone, hydronephrosis or solid mass.\\n**IMPRESSION:**\\n- (Chronic) parenchymatous disease of `[right | left | both]` kidney(s).\\n```\\n\\nExamples:\\n\\n- Parenchymatous right kidney and normal left kidney:\\n\\n```markdown\\n**Kidneys:** Normal size with mildly increased parenchymal echogenicity of the right kidney. Normal size and parenchymal echogenicity of left kidney. No stone, hydronephrosis or solid mass.\\n**IMPRESSION:**\\n- Parenchymatous disease of right kidney.\\n```\\n\\n- Chronic parenchymatous of both kidneys:\\n\\n```markdown\\n**Kidneys:** Small size with increased parenchymal echogenicity of both kidneys. No stone, hydronephrosis or solid mass.\\n**IMPRESSION:**\\n- Chronic parenchymatous disease of both kidneys.\\n```\\n\\n### Renal Cyst(s)\\n\\nHere is how to report renal cyst according to Bosniak classification system.\\n\\n#### Bosniak 1 (Simple Cyst)\\n\\nUse this phase: \"simple cortical cyst(s)\" with <quantifier> as described in the english style guide.\\n\\n```markdown\\n**Kidneys:** Normal size and parenchymal echogenicity of both kidneys. <quantifier> simple cortical cyst(s) at `[right | left | both]` kidney(s). No stone, hydronephrosis or solid mass.\\n**IMPRESSION:**\\n- <quantifier> simple `[right | left | bilateral]` cyst(s)\\n```\\n\\nExamples:\\n\\n```markdown\\n**Kidneys:** Normal size and parenchymal echogenicity of both kidneys. A 0.5-cm simple cortical cyst at right kidney. No stone, hydronephrosis or solid mass.\\n**IMPRESSION:**\\n- A 0.5-cm simple right renal cyst.\\n```\\n\\n```markdown\\n**Kidneys:** Normal size and parenchymal echogenicity of both kidneys. A few simple cortical cysts at both kidneys, measuring up to 2.0 cm. No stone, hydronephrosis or solid mass.\\n**IMPRESSION:**\\n- A few simple bilateral renal cysts, measuring up to 2.0 cm.\\n```'"
      ]
     },
     "execution_count": 4,
     "metadata": {},
     "output_type": "execute_result"
    }
   ],
   "source": [
    "prompt_upper_v1 = read_markdown(\"prompt/prompt-upper-abd-v1.md\")\n",
    "prompt_upper_v1"
   ]
  },
  {
   "cell_type": "code",
   "execution_count": 5,
   "metadata": {},
   "outputs": [
    {
     "name": "stdout",
     "output_type": "stream",
     "text": [
      "Generate US report with these findings:\n",
      "- Mild Fatty liver\n",
      "- A 2.0-cm gallstone\n",
      "- CBD 3 mm\n",
      "- Parenchymatous both kidneys\n"
     ]
    }
   ],
   "source": [
    "user_3 = \"\"\"Generate US report with these findings:\n",
    "- Mild Fatty liver\n",
    "- A 2.0-cm gallstone\n",
    "- CBD 3 mm\n",
    "- Parenchymatous both kidneys\"\"\"\n",
    "print(user_3)"
   ]
  },
  {
   "cell_type": "code",
   "execution_count": 6,
   "metadata": {},
   "outputs": [],
   "source": [
    "resp_us_upper_1 = client.chat.completions.create(\n",
    "  model=\"gpt-3.5-turbo\",\n",
    "  seed=1, # For reproducibility\n",
    "  temperature=1, \n",
    "  messages=[\n",
    "    {\"role\": \"system\", \"content\": prompt_upper_v1},\n",
    "    {\"role\": \"user\", \"content\": user_3}\n",
    "  ]\n",
    ")"
   ]
  },
  {
   "cell_type": "code",
   "execution_count": 12,
   "metadata": {},
   "outputs": [
    {
     "name": "stdout",
     "output_type": "stream",
     "text": [
      "**US OF THE UPPER ABDOMEN**\n",
      "\n",
      "**FINDINGS:**\n",
      "\n",
      "**Liver:** Normal size with mildly increased parenchymal echogenicity of the liver. No focal lesion.\n",
      "**Biliary system:** CBD measures 3 mm without demonstrable cause of obstruction. No intrahepatic ductal dilatation.\n",
      "**Gallbladder:** Distended gallbladder containing a 2.0-cm gallstone. No gallbladder wall thickening or pericholecystic fluid. No mass.\n",
      "**Spleen:** Normal in size.\n",
      "**Pancreas:** Visualized portions are unremarkable.\n",
      "**Kidneys:** Normal size with mildly increased parenchymal echogenicity of both kidneys. No stone, hydronephrosis or solid mass.\n",
      "**Aorta:** Normal caliber.\n",
      "\n",
      "**IMPRESSION:**\n",
      "- Mild fatty liver without focal lesion.\n",
      "- A 2.0-cm gallstone without evidence of cholecystitis.\n",
      "- Parenchymatous disease of both kidneys.\n"
     ]
    }
   ],
   "source": [
    "printChatCompletion(resp_us_upper_1)"
   ]
  }
 ],
 "metadata": {
  "kernelspec": {
   "display_name": "Python 3",
   "language": "python",
   "name": "python3"
  },
  "language_info": {
   "codemirror_mode": {
    "name": "ipython",
    "version": 3
   },
   "file_extension": ".py",
   "mimetype": "text/x-python",
   "name": "python",
   "nbconvert_exporter": "python",
   "pygments_lexer": "ipython3",
   "version": "3.10.10"
  }
 },
 "nbformat": 4,
 "nbformat_minor": 2
}
