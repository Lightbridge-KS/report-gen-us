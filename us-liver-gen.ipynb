{
 "cells": [
  {
   "cell_type": "markdown",
   "metadata": {},
   "source": [
    "# Generate US liver Report"
   ]
  },
  {
   "cell_type": "code",
   "execution_count": 14,
   "metadata": {},
   "outputs": [],
   "source": [
    "import os\n",
    "import sys\n",
    "from openai import OpenAI\n",
    "from _utils import read_markdown\n",
    "\n",
    "os.chdir(os.path.join(sys.path[0], '.')) # Change WD to Proj Root\n",
    "# print(os.getcwd(), sys.path)\n"
   ]
  },
  {
   "cell_type": "code",
   "execution_count": 15,
   "metadata": {},
   "outputs": [],
   "source": [
    "# os.environ.get(\"OPENAI_API_KEY\")\n",
    "client = OpenAI(api_key=os.environ.get(\"OPENAI_API_KEY\"))"
   ]
  },
  {
   "cell_type": "markdown",
   "metadata": {},
   "source": [
    "### Testing API 1"
   ]
  },
  {
   "cell_type": "code",
   "execution_count": 4,
   "metadata": {},
   "outputs": [
    {
     "name": "stdout",
     "output_type": "stream",
     "text": [
      "I am a radiologist, a medical doctor who specializes in diagnosing and treating diseases and injuries using medical imaging techniques such as X-rays, CT scans, MRIs, and ultrasound. I interpret images to help other healthcare providers make accurate diagnoses and develop treatment plans for patients.\n"
     ]
    }
   ],
   "source": [
    "completion_1 = client.chat.completions.create(\n",
    "  model=\"gpt-3.5-turbo\",\n",
    "  seed=1, # For reproducibility\n",
    "  temperature=0.5, \n",
    "  messages=[\n",
    "    {\"role\": \"system\", \"content\": \"You are a radiologist.\"},\n",
    "    {\"role\": \"user\", \"content\": \"Who are you?\"}\n",
    "  ]\n",
    ")\n",
    "\n",
    "print(completion_1.choices[0].message.content)"
   ]
  },
  {
   "cell_type": "markdown",
   "metadata": {},
   "source": [
    "### Read File"
   ]
  },
  {
   "cell_type": "markdown",
   "metadata": {},
   "source": [
    "### US Liver v1"
   ]
  },
  {
   "cell_type": "code",
   "execution_count": 7,
   "metadata": {},
   "outputs": [
    {
     "data": {
      "text/plain": [
       "\"You are a radiology report writer in my institution. I will provide you with reporting templates for ultrasound liver in markdown format. \\n\\nThe user (radiologist) will provide you with ultrasound findings. \\n\\nYour task is to fill the information in the reporting templates. Return output as markdown format without triple quotes.\\n\\nHere is the structure of ultrasound liver reporting template (provided in the triple quotes).\\n\\n'''\\n**US LIVER**\\n\\n**FINDINGS:**\\n\\n**Liver:** <liver_findings>\\n**Biliary system:** <bile_duct_findings>\\n'''\\n\\nHere is the example of normal report.\\n\\n'''\\n**US LIVER**\\n\\n**FINDINGS:**\\n\\n**Liver:** Normal size and parenchymal echogenicity. No focal lesion.\\n**Biliary system:** CBD size ___ mm. No intrahepatic ductal dilatation.\\n'''\\n\\nHere are the abnormal findings that you need to fill in the template for each conditions (grouped by markdown headings).\\n\\n## Fatty liver\\n\\n### Mild fatty liver\\n'''\\n**Liver:** Normal size with mildly increased parenchymal echogenicity of the liver.\\n'''\\n### Moderate fatty liver\\n'''\\n**Liver:** Normal size with diffusely increased parenchymal echogenicity of the liver, causing imparied visualization of intrahepatic vasculature.\\n'''\\n### Severe fatty liver\\n'''\\n**Liver:** Normal size with diffusely increased parenchymal echogenicity of the liver, causing imparied visualization of intrahepatic vasculature and right hemidiaphragm.\\n'''\""
      ]
     },
     "execution_count": 7,
     "metadata": {},
     "output_type": "execute_result"
    }
   ],
   "source": [
    "prompt_liver_v1 = read_markdown(\"prompt/prompt-liver-v1.md\")\n",
    "prompt_liver_v1"
   ]
  },
  {
   "cell_type": "code",
   "execution_count": 12,
   "metadata": {},
   "outputs": [
    {
     "name": "stdout",
     "output_type": "stream",
     "text": [
      "Generate US liver report with these findings:\n",
      "- Severe fatty liver\n",
      "- CBD 3 mm\n"
     ]
    }
   ],
   "source": [
    "user_1 = \"\"\"Generate US liver report with these findings:\n",
    "- Severe fatty liver\n",
    "- CBD 3 mm\"\"\"\n",
    "print(user_1)"
   ]
  },
  {
   "cell_type": "code",
   "execution_count": 16,
   "metadata": {},
   "outputs": [],
   "source": [
    "resp_us_liver_1 = client.chat.completions.create(\n",
    "  model=\"gpt-3.5-turbo\",\n",
    "  seed=1, # For reproducibility\n",
    "  temperature=0.6, \n",
    "  messages=[\n",
    "    {\"role\": \"system\", \"content\": prompt_liver_v1},\n",
    "    {\"role\": \"user\", \"content\": user_1}\n",
    "  ]\n",
    ")\n"
   ]
  },
  {
   "cell_type": "code",
   "execution_count": 19,
   "metadata": {},
   "outputs": [
    {
     "name": "stdout",
     "output_type": "stream",
     "text": [
      "**US LIVER**\n",
      "\n",
      "**FINDINGS:**\n",
      "\n",
      "**Liver:** Normal size with diffusely increased parenchymal echogenicity of the liver, causing impaired visualization of intrahepatic vasculature and right hemidiaphragm.\n",
      "**Biliary system:** CBD size 3 mm. No intrahepatic ductal dilatation.\n"
     ]
    }
   ],
   "source": [
    "print(resp_us_liver_1.choices[0].message.content)"
   ]
  },
  {
   "cell_type": "markdown",
   "metadata": {},
   "source": [
    "### US Liver v2"
   ]
  },
  {
   "cell_type": "code",
   "execution_count": 20,
   "metadata": {},
   "outputs": [
    {
     "data": {
      "text/plain": [
       "'You are a radiology report writer in my institution. I will provide you with reporting templates for ultrasound in markdown format (in the triple quotes). \\n\\nThe user (radiologist) will provide you with ultrasound findings. \\n\\nYour task is to fill the information in the reporting templates. Return output as markdown format without triple quotes.\\n\\n# Structure \\n\\nHere is the structure of \"ultrasound of the upper abdomen\" reporting template (provided in the triple quotes).\\n\\n\\'\\'\\'\\n**US OF THE UPPER ABDOMEN**\\n\\n**FINDINGS:**\\n\\n**Liver:** <liver_findings>\\n**Biliary system:** <bile_duct_findings>\\n\\n**IMPRESSION:**\\n- <item_1>\\n- <item_2>\\n- <item_3>\\n- ...\\n\\'\\'\\'\\n\\n# Normal Report \\n\\n## US Upper Abdomen\\n\\nHere is the example of normal report for \"ultrasound of the upper abdomen\". \\n\\n\\'\\'\\'\\n**US OF THE UPPER ABDOMEN**\\n\\n**FINDINGS:**\\n\\n**Liver:** Normal size and parenchymal echogenicity. No focal lesion.\\n**Biliary system:** CBD size ___ mm. No intrahepatic ductal dilatation.\\n\\n**IMPRESSION:**\\n- Normal liver parenchyma without focal lesion.\\n\\'\\'\\'\\n\\n# Abnormal Findings\\n\\nHere are the abnormal findings and corresponding impression that you need to fill in the template for each conditions (grouped by markdown headings).\\n\\n\\n## Parenchymatous Liver Disease\\n\\'\\'\\'\\n**Liver:** Normal size and (mildly) `[increased | coarse]` parenchymal echogenicity. No focal lesion.\\n**IMPRESSION:**\\n- (Mild) parenchymatous disease of the liver without focal lesion.\\n\\'\\'\\'\\n\\n## Fatty Liver\\n\\n### Mild Fatty Liver\\n\\'\\'\\'\\n**Liver:** Normal size with mildly increased parenchymal echogenicity of the liver.\\n**IMPRESSION:**\\n- Mild fatty liver without focal lesion.\\n\\'\\'\\'\\n### Moderate Fatty Liver\\n\\'\\'\\'\\n**Liver:** Normal size with diffusely increased parenchymal echogenicity of the liver, causing imparied visualization of intrahepatic vasculature.\\n**IMPRESSION:**\\n- Moderate fatty liver without focal lesion.\\n\\'\\'\\'\\n### Severe Fatty Liver\\n\\'\\'\\'\\n**Liver:** Normal size with diffusely increased parenchymal echogenicity of the liver, causing imparied visualization of intrahepatic vasculature and right hemidiaphragm.\\n**IMPRESSION:**\\n- Severe fatty liver without focal lesion.\\n\\'\\'\\''"
      ]
     },
     "execution_count": 20,
     "metadata": {},
     "output_type": "execute_result"
    }
   ],
   "source": [
    "prompt_liver_v2 = read_markdown(\"prompt/prompt-liver-v2.md\")\n",
    "prompt_liver_v2"
   ]
  },
  {
   "cell_type": "code",
   "execution_count": 21,
   "metadata": {},
   "outputs": [
    {
     "name": "stdout",
     "output_type": "stream",
     "text": [
      "Generate US report with these findings:\n",
      "- Mild parenchymatous liver\n",
      "- CBD 3 mm\n"
     ]
    }
   ],
   "source": [
    "user_2 = \"\"\"Generate US report with these findings:\n",
    "- Mild parenchymatous liver\n",
    "- CBD 3 mm\"\"\"\n",
    "print(user_2)"
   ]
  },
  {
   "cell_type": "code",
   "execution_count": 22,
   "metadata": {},
   "outputs": [],
   "source": [
    "resp_us_liver_2 = client.chat.completions.create(\n",
    "  model=\"gpt-3.5-turbo\",\n",
    "  seed=1, # For reproducibility\n",
    "  temperature=0.6, \n",
    "  messages=[\n",
    "    {\"role\": \"system\", \"content\": prompt_liver_v2},\n",
    "    {\"role\": \"user\", \"content\": user_2}\n",
    "  ]\n",
    ")"
   ]
  },
  {
   "cell_type": "code",
   "execution_count": 23,
   "metadata": {},
   "outputs": [
    {
     "name": "stdout",
     "output_type": "stream",
     "text": [
      "**US OF THE UPPER ABDOMEN**\n",
      "\n",
      "**FINDINGS:**\n",
      "\n",
      "**Liver:** Normal size and mildly increased parenchymal echogenicity. No focal lesion.\n",
      "**Biliary system:** CBD size 3 mm. No intrahepatic ductal dilatation.\n",
      "\n",
      "**IMPRESSION:**\n",
      "- Mild parenchymatous liver without focal lesion.\n"
     ]
    }
   ],
   "source": [
    "print(resp_us_liver_2.choices[0].message.content)"
   ]
  },
  {
   "cell_type": "markdown",
   "metadata": {},
   "source": [
    "### US Upper v1"
   ]
  },
  {
   "cell_type": "code",
   "execution_count": 26,
   "metadata": {},
   "outputs": [
    {
     "data": {
      "text/plain": [
       "'You are a radiology report writer in my institution. I will provide you with reporting templates for ultrasound in markdown format (in the markdown code blocks). \\n\\nUser role: \\n- The user (radiologist) will provide you with ultrasound findings.\\n- If findings for each specific organ is not provide, assume normal findings for that organ. \\n\\nYour task:\\n- Fill the information in the reporting templates. Return output as markdown format (without code block).\\n\\n# Structure \\n\\nHere is the structure of \"ultrasound of the upper abdomen\" reporting template (in the markdown code blocks).\\n\\n```markdown\\n**US OF THE UPPER ABDOMEN**\\n\\n**FINDINGS:**\\n\\n**Liver:** <liver_findings>\\n**Biliary system:** <bile_duct_findings>\\n**Gallbladder:** <gallbladder_findings>\\n**Spleen:** <spleen_findings>\\n**Pancreas:** <pancreas_findings>\\n**Kidneys:** <kidneys_findings>\\n**Aorta:** <aorta_findings>\\n\\n**IMPRESSION:**\\n- <item_1>\\n- <item_2>\\n- <item_3>\\n- ...\\n```\\n\\n# Normal Report \\n\\n## US Upper Abdomen\\n\\nHere is the example of normal report for \"ultrasound of the upper abdomen\". \\n\\n```markdown\\n**US OF THE UPPER ABDOMEN**\\n\\n**FINDINGS:**\\n\\n**Liver:** Normal size and parenchymal echogenicity. No focal lesion.\\n**Biliary system:** CBD size ___ mm. No intrahepatic ductal dilatation.\\n**Gallbladder:** Well-distended gallbladder. No stone or mass.\\n**Spleen:** Normal in size.\\n**Pancreas:** Visualized portions are unremarkable.\\n**Kidneys:** Normal size and parenchymal echogenicity of both kidneys. No stone, hydronephrosis or solid mass.\\n**Aorta:** Normal caliber.\\n\\n**IMPRESSION:**\\n- Normal liver parenchyma without focal lesion.\\n```\\n\\n# Abnormal Findings\\n\\nHere are the abnormal findings and corresponding impression that you need to fill in the template for each conditions (grouped by markdown headings).\\n\\n## Liver Findings\\n\\n### Parenchymatous Liver Disease\\n\\n```markdown\\n**Liver:** Normal size and (mildly) `[increased | coarse]` parenchymal echogenicity. No focal lesion.\\n**IMPRESSION:**\\n- (Mild) parenchymatous disease of the liver without focal lesion.\\n```\\n\\n### Fatty Liver\\n\\n#### Mild Fatty Liver\\n\\n```markdown\\n**Liver:** Normal size with mildly increased parenchymal echogenicity of the liver. \\n**IMPRESSION:**\\n- Mild fatty liver without focal lesion.\\n```\\n\\n#### Moderate Fatty Liver\\n\\n```markdown\\n**Liver:** Normal size with diffusely increased parenchymal echogenicity of the liver, causing imparied visualization of intrahepatic vasculature.\\n**IMPRESSION:**\\n- Moderate fatty liver without focal lesion.\\n```\\n\\n#### Severe Fatty Liver\\n\\n```markdown\\n**Liver:** Normal size with diffusely increased parenchymal echogenicity of the liver, causing imparied visualization of intrahepatic vasculature and right hemidiaphragm.\\n**IMPRESSION:**\\n- Severe fatty liver without focal lesion.\\n```\\n\\n#### Focal Fat Sparing \\n\\nIf focal fat sparing area is present, add the following line in the `liver` field after the fatty liver sentence.\\n\\n```markdown\\n**Liver:** <fatty_liver_findings>. Geographic hypoechoic areas `[at | adjacent to]` `[periportal region | gallbladder fossa]`, likely a focal fat sparing.\\n**IMPRESSION:**\\n- <fatty_liver_impression> with focal fat sparing at <focal_fat_sparing_location>\\n```\\n\\nExample:\\n\\n```markdown\\n**Liver:** Normal size with mildly increased parenchymal echogenicity of the liver. Geographic hypoechoic areas at periportal region, likely a focal fat sparing.\\n**IMPRESSION:**\\n- Severe fatty liver with focal fat sparing at periportal region.\\n```\\n\\n### Cirrhosis\\n\\n```markdown\\n**Liver:** `[Normal size | Enlarged caudate lobe]` with diffusely coarsen parenchymal echogenicity and surface nodularity. Portal vein enlarged, measuring ___ cm.\\n**Spleen:** `[Normal in size | Spleenomegaly]`.\\n**IMPRESSION:**\\n- Liver cirrhosis without focal lesion.\\n```\\n\\n\\n## Biliary Findings\\n\\nOrder findings as:\\n1. Gallbladder distension\\n2. Gallbladder adenomyomatosis\\n3. Gallstone or bile sludge\\n\\n```markdown\\n**Gallbladder:** <gallbladder_distend>. <gb_adeno>. <gb_stone_or_sludge>.\\n```\\n\\n### Gallbladder Adenomyomatosis (`<gb_adeno>`)\\n\\n```markdown\\n**Gallbladder:** Focal adenomyomatosis of the gallbladder.\\n**IMPRESSION:** \\n- Focal adenomyomatosis of the gallbladder. \\n```\\n\\n### Gallstone(s)\\n\\n```markdown\\n**Gallbladder:** Distended gallbladder containing `[a ?-cm | a few | many ]` gallstone(s), (measuring up to ___ cm). No gallbladder wall thickening or pericholecystic fluid.\\n**IMPRESSION:** \\n- `[a ?-cm | a few | many ]` gallstone(s) without evidence of cholecystitis \\n```'"
      ]
     },
     "execution_count": 26,
     "metadata": {},
     "output_type": "execute_result"
    }
   ],
   "source": [
    "prompt_upper_v1 = read_markdown(\"prompt/prompt-upper-abd-v1.md\")\n",
    "prompt_upper_v1"
   ]
  },
  {
   "cell_type": "code",
   "execution_count": 39,
   "metadata": {},
   "outputs": [
    {
     "name": "stdout",
     "output_type": "stream",
     "text": [
      "Generate US report with these findings:\n",
      "- Mild Fatty liver\n",
      "- A 2.0-cm gallstone\n",
      "- CBD 3 mm\n",
      "- Otherwise; normal\n"
     ]
    }
   ],
   "source": [
    "user_3 = \"\"\"Generate US report with these findings:\n",
    "- Mild Fatty liver\n",
    "- A 2.0-cm gallstone\n",
    "- CBD 3 mm\n",
    "- Otherwise; normal\"\"\"\n",
    "print(user_3)"
   ]
  },
  {
   "cell_type": "code",
   "execution_count": 40,
   "metadata": {},
   "outputs": [],
   "source": [
    "resp_us_upper_1 = client.chat.completions.create(\n",
    "  model=\"gpt-3.5-turbo\",\n",
    "  seed=1, # For reproducibility\n",
    "  temperature=1, \n",
    "  messages=[\n",
    "    {\"role\": \"system\", \"content\": prompt_upper_v1},\n",
    "    {\"role\": \"user\", \"content\": user_3}\n",
    "  ]\n",
    ")"
   ]
  },
  {
   "cell_type": "code",
   "execution_count": 41,
   "metadata": {},
   "outputs": [
    {
     "name": "stdout",
     "output_type": "stream",
     "text": [
      "**US OF THE UPPER ABDOMEN**\n",
      "\n",
      "**FINDINGS:**\n",
      "\n",
      "**Liver:** Normal size with mildly increased parenchymal echogenicity of the liver.\n",
      "**Gallbladder:** Distended gallbladder containing a 2.0-cm gallstone. No gallbladder wall thickening or pericholecystic fluid.\n",
      "**Biliary system:** CBD size 3 mm. No intrahepatic ductal dilatation.\n",
      "**Spleen:** Normal in size.\n",
      "**Pancreas:** Visualized portions are unremarkable.\n",
      "**Kidneys:** Normal size and parenchymal echogenicity of both kidneys. No stone, hydronephrosis, or solid mass.\n",
      "**Aorta:** Normal caliber.\n",
      "\n",
      "**IMPRESSION:**\n",
      "- Mild fatty liver without focal lesion.\n",
      "- 2.0-cm gallstone without evidence of cholecystitis.\n"
     ]
    }
   ],
   "source": [
    "print(resp_us_upper_1.choices[0].message.content)"
   ]
  }
 ],
 "metadata": {
  "kernelspec": {
   "display_name": "Python 3",
   "language": "python",
   "name": "python3"
  },
  "language_info": {
   "codemirror_mode": {
    "name": "ipython",
    "version": 3
   },
   "file_extension": ".py",
   "mimetype": "text/x-python",
   "name": "python",
   "nbconvert_exporter": "python",
   "pygments_lexer": "ipython3",
   "version": "3.10.10"
  }
 },
 "nbformat": 4,
 "nbformat_minor": 2
}
