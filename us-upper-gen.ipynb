{
 "cells": [
  {
   "cell_type": "markdown",
   "metadata": {},
   "source": [
    "# US Upper abd gen"
   ]
  },
  {
   "cell_type": "code",
   "execution_count": 19,
   "metadata": {},
   "outputs": [],
   "source": [
    "import os\n",
    "import sys\n",
    "from openai import OpenAI\n",
    "from _utils import read_markdown\n",
    "from _myopenai import my_chat_completion, printChatCompletion\n",
    "\n",
    "os.chdir(os.path.join(sys.path[0], '.')) # Change WD to Proj Root\n",
    "# print(os.getcwd(), sys.path)\n"
   ]
  },
  {
   "cell_type": "code",
   "execution_count": 20,
   "metadata": {},
   "outputs": [
    {
     "name": "stdout",
     "output_type": "stream",
     "text": [
      "Hello! How can I assist you today?\n"
     ]
    }
   ],
   "source": [
    "# os.environ.get(\"OPENAI_API_KEY\")\n",
    "client = OpenAI(api_key=os.environ.get(\"OPENAI_API_KEY\"))\n",
    "cc_test = my_chat_completion(client)\n",
    "printChatCompletion(cc_test)"
   ]
  },
  {
   "cell_type": "markdown",
   "metadata": {},
   "source": [
    "### Join Sys Prompt"
   ]
  },
  {
   "cell_type": "code",
   "execution_count": 21,
   "metadata": {},
   "outputs": [],
   "source": [
    "\n",
    "prompt_main = read_markdown(\"prompt-main/0_prompt_main.md\")\n",
    "eng_style_guide = read_markdown(\"prompt-main/1_english_style_guide.md\")\n",
    "report_temp = read_markdown(\"prompt-main/2_reporting_templates.md\")\n",
    "\n",
    "prompt_all_us_upper = \"\\n\\n\".join([prompt_main, eng_style_guide, report_temp])"
   ]
  },
  {
   "cell_type": "markdown",
   "metadata": {},
   "source": [
    "### User Prompt"
   ]
  },
  {
   "cell_type": "code",
   "execution_count": 22,
   "metadata": {},
   "outputs": [],
   "source": [
    "\n",
    "pr_user_upper1 = \"\"\"Generate US report with these findings:\n",
    "- Severe fatty liver, CBD 3 mm\n",
    "- Chronic parenchymatous both kidneys\n",
    "- A 3-cm simple left renal cyst \n",
    "- A 2-cm right renal stone\n",
    "\"\"\""
   ]
  },
  {
   "cell_type": "markdown",
   "metadata": {},
   "source": [
    "### Exec"
   ]
  },
  {
   "cell_type": "code",
   "execution_count": 23,
   "metadata": {},
   "outputs": [],
   "source": [
    "cc_upper_abd1 = my_chat_completion(client,\n",
    "                                   prompt_system=prompt_all_us_upper, \n",
    "                                   prompt_user=pr_user_upper1)\n"
   ]
  },
  {
   "cell_type": "code",
   "execution_count": 24,
   "metadata": {},
   "outputs": [
    {
     "name": "stdout",
     "output_type": "stream",
     "text": [
      "**US OF THE UPPER ABDOMEN**\n",
      "\n",
      "**FINDINGS:**\n",
      "\n",
      "**Liver:** Normal size with diffusely increased parenchymal echogenicity of the liver, causing impaired visualization of intrahepatic vasculature and right hemidiaphragm. No focal lesion.\n",
      "**Biliary system:** Dilated CBD, measures about 3 mm without demonstrable cause of obstruction. No intrahepatic ductal dilatation.\n",
      "**Gallbladder:** Well-distended gallbladder. No stone or mass.\n",
      "**Spleen:** Normal in size.\n",
      "**Pancreas:** Visualized portions are unremarkable.\n",
      "**Kidneys:** Small size with (mildly) increased parenchymal echogenicity of both kidneys. A 3.0-cm simple left renal cyst. A 2.0-cm non-obstructing caliceal stone at right kidney. No hydronephrosis or solid mass.\n",
      "**Aorta:** Normal caliber.\n",
      "\n",
      "**IMPRESSION:**\n",
      "- Severe fatty liver without focal lesion.\n",
      "- Chronic parenchymatous disease of both kidneys.\n",
      "- A 3.0-cm simple left renal cyst.\n",
      "- A 2.0-cm non-obstructing caliceal stone at right kidney.\n"
     ]
    }
   ],
   "source": [
    "printChatCompletion(cc_upper_abd1)"
   ]
  }
 ],
 "metadata": {
  "kernelspec": {
   "display_name": "Python 3",
   "language": "python",
   "name": "python3"
  },
  "language_info": {
   "codemirror_mode": {
    "name": "ipython",
    "version": 3
   },
   "file_extension": ".py",
   "mimetype": "text/x-python",
   "name": "python",
   "nbconvert_exporter": "python",
   "pygments_lexer": "ipython3",
   "version": "3.10.10"
  }
 },
 "nbformat": 4,
 "nbformat_minor": 2
}
