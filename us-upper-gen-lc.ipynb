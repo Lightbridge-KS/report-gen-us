{
 "cells": [
  {
   "cell_type": "markdown",
   "metadata": {},
   "source": [
    "# US Upper (LangChain)"
   ]
  },
  {
   "cell_type": "code",
   "execution_count": 172,
   "metadata": {},
   "outputs": [],
   "source": [
    "from pyprojroot.here import here\n",
    "from langchain_openai import ChatOpenAI\n",
    "from langchain_core.prompts import ChatPromptTemplate, MessagesPlaceholder, PromptTemplate\n",
    "from langchain_core.messages import HumanMessage\n",
    "from langchain_core.runnables import RunnablePassthrough\n",
    "from langchain_core.documents import Document\n",
    "from langchain_community.document_loaders import DirectoryLoader, UnstructuredMarkdownLoader\n",
    "from langchain_core.output_parsers import StrOutputParser\n",
    "from _utils import read_markdown\n",
    "\n",
    "# base_path = pyprojroot.find_root(pyprojroot.has_dir(\".git\"))"
   ]
  },
  {
   "cell_type": "markdown",
   "metadata": {},
   "source": [
    "## Prompt"
   ]
  },
  {
   "cell_type": "markdown",
   "metadata": {},
   "source": [
    "### Construct Prompt Template "
   ]
  },
  {
   "cell_type": "code",
   "execution_count": 211,
   "metadata": {},
   "outputs": [],
   "source": [
    "pr_text_main = read_markdown(here(\"prompt-lc/main.md\"))\n",
    "# pr_text_eng_style_guide = read_markdown(here(\"prompt-lc/eng_style_guide.md\"))\n",
    "# pr_text_report_structure = read_markdown(here(\"prompt-lc/report_structure.md\"))\n",
    "# pr_text_report_template_normal = read_markdown(here(\"prompt-lc/report_template_normal.md\"))\n",
    "# print(prompt_main_str)"
   ]
  },
  {
   "cell_type": "code",
   "execution_count": 209,
   "metadata": {},
   "outputs": [
    {
     "data": {
      "text/plain": [
       "ChatPromptTemplate(input_variables=['abnormal_gallbladder', 'abnormal_kidney', 'abnormal_liver', 'user'], messages=[HumanMessagePromptTemplate(prompt=PromptTemplate(input_variables=['abnormal_gallbladder', 'abnormal_kidney', 'abnormal_liver', 'user'], template='You are a radiology report writer in my institution. \\n\\nI will provide you:\\n\\n- \"English Style Guide\" for the preferred ways to write phrases or sentences in the report.\\n- \"Reporting Structure\" provides blueprint to build radiology report for each studies.\\n- \"Normal Report Template\" provides normal reporting template and normal findings for each studies.\\n- \"Abnormal Report Template\" provide template to write abnormal findings and corresponding impression for each specific organs and conditions.\\n\\n\\nUser role: \\n- The user (radiologist) will provide you with ultrasound findings.\\n- If findings for each specific organ is not provide, assume normal findings for that organ. \\n- If the user ask \"How do I use you?\", provide the \"User guide\", or if not provided, generate it.\\n\\nYour task: \\n- Build radiology report using \"Reporting Structure\", \"Normal Report Template\", and \"Abnormal Findings Report Template\" with language style according to the \"english style guide\" as provided.\\n- Output the report in markdown format (without code block).\\n\\n\\n# English Style Guide\\n\\nHere is the preferred style guide to write report for each description task (grouped by markdown headings) with examples.\\n\\n## Quantifying countable lesion(s) (`<quantifier>`)\\n\\n### One lesion\\n\\nSyntax: `?`-`unit` `lesion`\\n\\nExamples: \\n- \"A 4.2-cm gallstone\"\\n- \"A 5.0-cm renal cyst\"\\n\\nIf multiple dimensions for one lesion is provided, use \"x\" to separate each dimensions.\\n\\nExamples: \"A 5.3x2.5-cm renal cyst\" or \"A renal cyst, measuring 5.3x2.5 cm\"\\n\\n\\n### Two or more lesions\\n\\nHere are the preferred quantifiers and measurement descriptors to write two or more lesion(s):\\n\\n- Preferred quantifiers: \"a few\", \"several\", \"many\"\\n\\n- measurement descriptors: \\n  - \"measuring up to ...\", \"up to ...\"\\n  - \"ranging from ... to ...\"\\n\\nExamples: \\n-  \"A few renal cysts, measuring up to 2.0 cm\"\\n-  \"A few renal cysts, ranging from 1.5 to 2.0 cm\"\\n-  \"Several gallstones, up to 2.0 cm\"\\n-  \"Multiple gallstones, up to 3.0 cm\"\\n\\n\\n\\n# Reporting Structure\\n\\nHere is the radiology report structure for the study \"ultrasound of the upper abdomen\" (in the markdown code blocks).\\n\\n```markdown\\n**US OF THE UPPER ABDOMEN**\\n\\n**FINDINGS:**\\n\\n**Liver:** <liver_findings>\\n**Biliary system:** <bile_duct_findings>\\n**Gallbladder:** <gallbladder_findings>\\n**Spleen:** <spleen_findings>\\n**Pancreas:** <pancreas_findings>\\n**Kidneys:** <kidneys_findings>\\n**Aorta:** <aorta_findings>\\n\\n**IMPRESSION:**\\n- <item_1>\\n- <item_2>\\n- <item_3>\\n- ...\\n```\\n\\n\\n# Normal Report Template\\n\\n## US Upper Abdomen\\n\\nHere is the example of normal report for \"ultrasound of the upper abdomen\" (in the markdown code blocks). \\n\\n```markdown\\n**US OF THE UPPER ABDOMEN**\\n\\n**FINDINGS:**\\n\\n**Liver:** Normal size and parenchymal echogenicity. No focal lesion.\\n**Biliary system:** CBD size ___ mm. No intrahepatic ductal dilatation.\\n**Gallbladder:** Well-distended gallbladder. No stone or mass.\\n**Spleen:** Normal in size.\\n**Pancreas:** Visualized portions are unremarkable.\\n**Kidneys:** Normal size and parenchymal echogenicity of both kidneys. No stone, hydronephrosis or solid mass.\\n**Aorta:** Normal caliber.\\n\\n**IMPRESSION:**\\n- Normal liver parenchyma without focal lesion.\\n```\\n\\n\\n# Abnormal Report Template\\n\\nProvided below are the abnormal findings and corresponding impression that you need to fill in the template for each abnormal conditions (structured by markdown headings):\\n\\n{abnormal_gallbladder}\\n\\n\\n{abnormal_kidney}\\n\\n\\n{abnormal_liver}\\n\\n\\nUser: {user}\\n\\n\\nAnswer:'))])"
      ]
     },
     "execution_count": 209,
     "metadata": {},
     "output_type": "execute_result"
    }
   ],
   "source": [
    "pr_temp = ChatPromptTemplate.from_template(pr_text_main)\n",
    "pr_temp"
   ]
  },
  {
   "cell_type": "code",
   "execution_count": 208,
   "metadata": {},
   "outputs": [
    {
     "data": {
      "text/plain": [
       "ChatPromptTemplate(input_variables=['abnormal_gallbladder', 'abnormal_kidney', 'abnormal_liver', 'msgs', 'user'], input_types={'msgs': typing.List[typing.Union[langchain_core.messages.ai.AIMessage, langchain_core.messages.human.HumanMessage, langchain_core.messages.chat.ChatMessage, langchain_core.messages.system.SystemMessage, langchain_core.messages.function.FunctionMessage, langchain_core.messages.tool.ToolMessage]]}, messages=[SystemMessagePromptTemplate(prompt=PromptTemplate(input_variables=['abnormal_gallbladder', 'abnormal_kidney', 'abnormal_liver', 'user'], template='You are a radiology report writer in my institution. \\n\\nI will provide you:\\n\\n- \"English Style Guide\" for the preferred ways to write phrases or sentences in the report.\\n- \"Reporting Structure\" provides blueprint to build radiology report for each studies.\\n- \"Normal Report Template\" provides normal reporting template and normal findings for each studies.\\n- \"Abnormal Report Template\" provide template to write abnormal findings and corresponding impression for each specific organs and conditions.\\n\\n\\nUser role: \\n- The user (radiologist) will provide you with ultrasound findings.\\n- If findings for each specific organ is not provide, assume normal findings for that organ. \\n- If the user ask \"How do I use you?\", provide the \"User guide\", or if not provided, generate it.\\n\\nYour task: \\n- Build radiology report using \"Reporting Structure\", \"Normal Report Template\", and \"Abnormal Findings Report Template\" with language style according to the \"english style guide\" as provided.\\n- Output the report in markdown format (without code block).\\n\\n\\n# English Style Guide\\n\\nHere is the preferred style guide to write report for each description task (grouped by markdown headings) with examples.\\n\\n## Quantifying countable lesion(s) (`<quantifier>`)\\n\\n### One lesion\\n\\nSyntax: `?`-`unit` `lesion`\\n\\nExamples: \\n- \"A 4.2-cm gallstone\"\\n- \"A 5.0-cm renal cyst\"\\n\\nIf multiple dimensions for one lesion is provided, use \"x\" to separate each dimensions.\\n\\nExamples: \"A 5.3x2.5-cm renal cyst\" or \"A renal cyst, measuring 5.3x2.5 cm\"\\n\\n\\n### Two or more lesions\\n\\nHere are the preferred quantifiers and measurement descriptors to write two or more lesion(s):\\n\\n- Preferred quantifiers: \"a few\", \"several\", \"many\"\\n\\n- measurement descriptors: \\n  - \"measuring up to ...\", \"up to ...\"\\n  - \"ranging from ... to ...\"\\n\\nExamples: \\n-  \"A few renal cysts, measuring up to 2.0 cm\"\\n-  \"A few renal cysts, ranging from 1.5 to 2.0 cm\"\\n-  \"Several gallstones, up to 2.0 cm\"\\n-  \"Multiple gallstones, up to 3.0 cm\"\\n\\n\\n\\n# Reporting Structure\\n\\nHere is the radiology report structure for the study \"ultrasound of the upper abdomen\" (in the markdown code blocks).\\n\\n```markdown\\n**US OF THE UPPER ABDOMEN**\\n\\n**FINDINGS:**\\n\\n**Liver:** <liver_findings>\\n**Biliary system:** <bile_duct_findings>\\n**Gallbladder:** <gallbladder_findings>\\n**Spleen:** <spleen_findings>\\n**Pancreas:** <pancreas_findings>\\n**Kidneys:** <kidneys_findings>\\n**Aorta:** <aorta_findings>\\n\\n**IMPRESSION:**\\n- <item_1>\\n- <item_2>\\n- <item_3>\\n- ...\\n```\\n\\n\\n# Normal Report Template\\n\\n## US Upper Abdomen\\n\\nHere is the example of normal report for \"ultrasound of the upper abdomen\" (in the markdown code blocks). \\n\\n```markdown\\n**US OF THE UPPER ABDOMEN**\\n\\n**FINDINGS:**\\n\\n**Liver:** Normal size and parenchymal echogenicity. No focal lesion.\\n**Biliary system:** CBD size ___ mm. No intrahepatic ductal dilatation.\\n**Gallbladder:** Well-distended gallbladder. No stone or mass.\\n**Spleen:** Normal in size.\\n**Pancreas:** Visualized portions are unremarkable.\\n**Kidneys:** Normal size and parenchymal echogenicity of both kidneys. No stone, hydronephrosis or solid mass.\\n**Aorta:** Normal caliber.\\n\\n**IMPRESSION:**\\n- Normal liver parenchyma without focal lesion.\\n```\\n\\n\\n# Abnormal Report Template\\n\\nProvided below are the abnormal findings and corresponding impression that you need to fill in the template for each abnormal conditions (structured by markdown headings):\\n\\n{abnormal_gallbladder}\\n\\n\\n{abnormal_kidney}\\n\\n\\n{abnormal_liver}\\n\\n\\nUser: {user}\\n\\n\\nAnswer:')), MessagesPlaceholder(variable_name='msgs')])"
      ]
     },
     "execution_count": 208,
     "metadata": {},
     "output_type": "execute_result"
    }
   ],
   "source": [
    "# Not Work when execute chain\n",
    "# pr_temp2 = ChatPromptTemplate.from_messages([\n",
    "#     (\"system\", pr_text_main),\n",
    "#     MessagesPlaceholder(\"msgs\")\n",
    "# ])\n",
    "# pr_temp2"
   ]
  },
  {
   "cell_type": "markdown",
   "metadata": {},
   "source": [
    "### Test invoke prompt value"
   ]
  },
  {
   "cell_type": "code",
   "execution_count": 210,
   "metadata": {},
   "outputs": [
    {
     "data": {
      "text/plain": [
       "[HumanMessage(content='You are a radiology report writer in my institution. \\n\\nI will provide you:\\n\\n- \"English Style Guide\" for the preferred ways to write phrases or sentences in the report.\\n- \"Reporting Structure\" provides blueprint to build radiology report for each studies.\\n- \"Normal Report Template\" provides normal reporting template and normal findings for each studies.\\n- \"Abnormal Report Template\" provide template to write abnormal findings and corresponding impression for each specific organs and conditions.\\n\\n\\nUser role: \\n- The user (radiologist) will provide you with ultrasound findings.\\n- If findings for each specific organ is not provide, assume normal findings for that organ. \\n- If the user ask \"How do I use you?\", provide the \"User guide\", or if not provided, generate it.\\n\\nYour task: \\n- Build radiology report using \"Reporting Structure\", \"Normal Report Template\", and \"Abnormal Findings Report Template\" with language style according to the \"english style guide\" as provided.\\n- Output the report in markdown format (without code block).\\n\\n\\n# English Style Guide\\n\\nHere is the preferred style guide to write report for each description task (grouped by markdown headings) with examples.\\n\\n## Quantifying countable lesion(s) (`<quantifier>`)\\n\\n### One lesion\\n\\nSyntax: `?`-`unit` `lesion`\\n\\nExamples: \\n- \"A 4.2-cm gallstone\"\\n- \"A 5.0-cm renal cyst\"\\n\\nIf multiple dimensions for one lesion is provided, use \"x\" to separate each dimensions.\\n\\nExamples: \"A 5.3x2.5-cm renal cyst\" or \"A renal cyst, measuring 5.3x2.5 cm\"\\n\\n\\n### Two or more lesions\\n\\nHere are the preferred quantifiers and measurement descriptors to write two or more lesion(s):\\n\\n- Preferred quantifiers: \"a few\", \"several\", \"many\"\\n\\n- measurement descriptors: \\n  - \"measuring up to ...\", \"up to ...\"\\n  - \"ranging from ... to ...\"\\n\\nExamples: \\n-  \"A few renal cysts, measuring up to 2.0 cm\"\\n-  \"A few renal cysts, ranging from 1.5 to 2.0 cm\"\\n-  \"Several gallstones, up to 2.0 cm\"\\n-  \"Multiple gallstones, up to 3.0 cm\"\\n\\n\\n\\n# Reporting Structure\\n\\nHere is the radiology report structure for the study \"ultrasound of the upper abdomen\" (in the markdown code blocks).\\n\\n```markdown\\n**US OF THE UPPER ABDOMEN**\\n\\n**FINDINGS:**\\n\\n**Liver:** <liver_findings>\\n**Biliary system:** <bile_duct_findings>\\n**Gallbladder:** <gallbladder_findings>\\n**Spleen:** <spleen_findings>\\n**Pancreas:** <pancreas_findings>\\n**Kidneys:** <kidneys_findings>\\n**Aorta:** <aorta_findings>\\n\\n**IMPRESSION:**\\n- <item_1>\\n- <item_2>\\n- <item_3>\\n- ...\\n```\\n\\n\\n# Normal Report Template\\n\\n## US Upper Abdomen\\n\\nHere is the example of normal report for \"ultrasound of the upper abdomen\" (in the markdown code blocks). \\n\\n```markdown\\n**US OF THE UPPER ABDOMEN**\\n\\n**FINDINGS:**\\n\\n**Liver:** Normal size and parenchymal echogenicity. No focal lesion.\\n**Biliary system:** CBD size ___ mm. No intrahepatic ductal dilatation.\\n**Gallbladder:** Well-distended gallbladder. No stone or mass.\\n**Spleen:** Normal in size.\\n**Pancreas:** Visualized portions are unremarkable.\\n**Kidneys:** Normal size and parenchymal echogenicity of both kidneys. No stone, hydronephrosis or solid mass.\\n**Aorta:** Normal caliber.\\n\\n**IMPRESSION:**\\n- Normal liver parenchyma without focal lesion.\\n```\\n\\n\\n# Abnormal Report Template\\n\\nProvided below are the abnormal findings and corresponding impression that you need to fill in the template for each abnormal conditions (structured by markdown headings):\\n\\n...\\n\\n\\n...\\n\\n\\n...\\n\\n\\nUser: [HumanMessage(content=\\'hi!\\')]\\n\\n\\nAnswer:')]"
      ]
     },
     "execution_count": 210,
     "metadata": {},
     "output_type": "execute_result"
    }
   ],
   "source": [
    "pr_val_1 = pr_temp.invoke({\n",
    "               \"abnormal_gallbladder\": \"...\",\n",
    "               \"abnormal_kidney\": \"...\",\n",
    "               \"abnormal_liver\": \"...\",\n",
    "               \"user\": [HumanMessage(content=\"hi!\")]})\n",
    "\n",
    "pr_val_1.to_messages()\n",
    "# print(pr_val_1.to_string())"
   ]
  },
  {
   "cell_type": "markdown",
   "metadata": {},
   "source": [
    "## Documents "
   ]
  },
  {
   "cell_type": "markdown",
   "metadata": {},
   "source": [
    "### Load Markdown Docs (Single)\n",
    "May not be a good ideas, since each organs must be filled "
   ]
  },
  {
   "cell_type": "code",
   "execution_count": 83,
   "metadata": {},
   "outputs": [],
   "source": [
    "from langchain_community.document_loaders import TextLoader\n",
    "\n",
    "loader = TextLoader(\"docs/report_template_abnormal.md\")\n",
    "doc_abnormal = loader.load()"
   ]
  },
  {
   "cell_type": "code",
   "execution_count": 84,
   "metadata": {},
   "outputs": [
    {
     "data": {
      "text/plain": [
       "Document(page_content='# Abnormal Findings\\n\\n\\n## Liver Findings\\n\\n### Parenchymatous Liver Disease\\n\\n```markdown\\n**Liver:** Normal size and (mildly) `[increased | coarse]` parenchymal echogenicity. No focal lesion.\\n**IMPRESSION:**\\n- (Mild) parenchymatous disease of the liver without focal lesion.\\n```\\n\\n### Fatty Liver\\n\\n#### Mild Fatty Liver\\n\\n```markdown\\n**Liver:** Normal size with mildly increased parenchymal echogenicity of the liver. No focal lesion.\\n**IMPRESSION:**\\n- Mild fatty liver without focal lesion.\\n```\\n\\n#### Moderate Fatty Liver\\n\\n```markdown\\n**Liver:** Normal size with diffusely increased parenchymal echogenicity of the liver, causing imparied visualization of intrahepatic vasculature. No focal lesion.\\n**IMPRESSION:**\\n- Moderate fatty liver without focal lesion.\\n```\\n\\n#### Severe Fatty Liver\\n\\n```markdown\\n**Liver:** Normal size with diffusely increased parenchymal echogenicity of the liver, causing imparied visualization of intrahepatic vasculature and right hemidiaphragm. No focal lesion.\\n**IMPRESSION:**\\n- Severe fatty liver without focal lesion.\\n```\\n\\n#### Focal Fat Sparing \\n\\nIf focal fat sparing area is present, add the following line in the `liver` field after the fatty liver sentence.\\n\\n```markdown\\n**Liver:** <fatty_liver_findings>. Geographic hypoechoic areas `[at | adjacent to]` `[periportal region | gallbladder fossa]`, likely a focal fat sparing.\\n**IMPRESSION:**\\n- <fatty_liver_impression> with focal fat sparing at <focal_fat_sparing_location>\\n```\\n\\nExample:\\n\\n```markdown\\n**Liver:** Normal size with mildly increased parenchymal echogenicity of the liver. Geographic hypoechoic areas at periportal region, likely a focal fat sparing. No gross mass.\\n**IMPRESSION:**\\n- Severe fatty liver with focal fat sparing at periportal region.\\n```\\n\\n### Cirrhosis\\n\\n```markdown\\n**Liver:** `[Normal size | Enlarged caudate lobe]` with diffusely coarsen parenchymal echogenicity and surface nodularity. Portal vein enlarged, measuring ___ cm. No focal lesion.\\n**Spleen:** `[Normal in size | Spleenomegaly]`.\\n**IMPRESSION:**\\n- Liver cirrhosis without focal lesion.\\n```\\n\\n\\n## Gallbladder Findings\\n\\nOrder findings as:\\n1. Gallbladder distension\\n2. Gallbladder adenomyomatosis\\n3. Gallstone or bile sludge\\n\\n```markdown\\n**Gallbladder:** <gallbladder_distend>. <gallbladder_adeno>. <gallbladder_stone_or_sludge>.\\n```\\n\\n### Gallbladder Adenomyomatosis\\n\\n```markdown\\n**Gallbladder:** Focal adenomyomatosis of the gallbladder.\\n**IMPRESSION:** \\n- Focal adenomyomatosis of the gallbladder. \\n```\\n\\n### Gallstone(s)\\n\\n```markdown\\n**Gallbladder:** Distended gallbladder containing `[a ?-cm | a few | many ]` gallstone(s), (measuring up to ___ cm). No gallbladder wall thickening or pericholecystic fluid. No mass\\n**IMPRESSION:** \\n- `[a ?-cm | a few | many ]` gallstone(s) without evidence of cholecystitis \\n```\\n\\n### Bile sludge\\n\\n```markdown\\n**Gallbladder:** Distended gallbladder containing bile sludge. No gallbladder wall thickening or pericholecystic fluid. No stone or mass.\\n**IMPRESSION:**\\n- Bile sludge in gallbladder without evidence of cholecystitis\\n```\\n\\n### Post-cholecystectomy\\n\\n```markdown\\n**Gallbladder:** Surgically absent gallbladder.\\n```\\n\\n### Cholecystostomy\\n\\n```markdown\\n**Gallbladder:** Collapsed gallbladder with retained cholecystostomy tube. No stone.\\n**IMPRESSION:** \\n- Proper position of cholecystosmy tube within collapsed gallbladder.\\n```\\n\\n## Biliary Findings\\n\\n### Dilated CBD without cause\\n\\n```markdown\\n**Biliary system:** Dilated CBD, measures about ___ mm without demonstrable cause of obstruction. No intrahepatic ductal dilatation. \\n**IMPRESSION:** \\n- Dilated CBD without demonstrable cause of obstruction.\\n```\\n\\n## Kidney Findings\\n\\n\\nOrder findings as:\\n1. Kidney size and echogenicity\\n2. (If any) Renal cyst(s)\\n3. (If any) Renal stone, hydronephrosis, or solid mass.\\n\\n```markdown\\n**Kidneys:** <kidney_size_echo>. <renal_cyst>. <renal_stone_hydro_solid_mass>.\\n```\\n\\n\\n### (Chronic) Parenchymatous Kidney Disease\\n\\nDefinition: \\n\\n\"Parenchymatous kidney disease\" := normal kidney size but increased echogenicity. \\n\"Chronic parenchymatous kidney disease\" := small kidney size and increased echogenicity. \\n\\nIf one kidney is abnormal and the other is normal, report findings for each kidneys. \\n\\nHere is the format:\\n\\n```markdown\\n**Kidneys:** `[Normal | Small]` size with (mildly) increased parenchymal echogenicity of the `[right | left | both]` kidney(s). No stone, hydronephrosis or solid mass.\\n**IMPRESSION:**\\n- (Chronic) parenchymatous disease of `[right | left | both]` kidney(s).\\n```\\n\\nExamples:\\n\\n- Parenchymatous right kidney and normal left kidney:\\n\\n```markdown\\n**Kidneys:** Normal size with mildly increased parenchymal echogenicity of the right kidney. Normal size and parenchymal echogenicity of left kidney. No stone, hydronephrosis or solid mass.\\n**IMPRESSION:**\\n- Parenchymatous disease of right kidney.\\n```\\n\\n- Chronic parenchymatous of both kidneys:\\n\\n```markdown\\n**Kidneys:** Small size with increased parenchymal echogenicity of both kidneys. No stone, hydronephrosis or solid mass.\\n**IMPRESSION:**\\n- Chronic parenchymatous disease of both kidneys.\\n```\\n\\n### Renal Cyst(s)\\n\\nHere is how to report renal cyst according to Bosniak classification system.\\n\\n#### Bosniak 1 (Simple Cyst)\\n\\nUse this phase: \"simple cortical cyst(s)\" with <quantifier> as described in the english style guide.\\n\\n```markdown\\n**Kidneys:** Normal size and parenchymal echogenicity of both kidneys. <quantifier> simple cortical cyst(s) at `[right | left | both]` kidney(s). No stone, hydronephrosis or solid mass.\\n**IMPRESSION:**\\n- <quantifier> simple `[right | left | bilateral]` cyst(s)\\n```\\n\\nExamples:\\n\\n```markdown\\n**Kidneys:** Normal size and parenchymal echogenicity of both kidneys. A 0.5-cm simple cortical cyst at right kidney. No stone, hydronephrosis or solid mass.\\n**IMPRESSION:**\\n- A 0.5-cm simple right renal cyst.\\n```\\n\\n```markdown\\n**Kidneys:** Normal size and parenchymal echogenicity of both kidneys. A few simple cortical cysts at both kidneys, measuring up to 2.0 cm. No stone, hydronephrosis or solid mass.\\n**IMPRESSION:**\\n- A few simple bilateral renal cysts, measuring up to 2.0 cm.\\n```\\n\\n### Renal Stone\\n\\n```markdown\\n**Kidneys:** Normal size and parenchymal echogenicity of both kidneys. <quantifier> non-obstructing caliceal stone(s) at `[right | left | both]` kidney(s).  No hydronephrosis or solid mass.\\n**IMPRESSION:**\\n- <quantifier> non-obstructing caliceal stone(s) at `[right | left | both]` kidney(s)\\n```\\n\\nExamples:\\n\\n```markdown\\n**Kidneys:** Normal size and parenchymal echogenicity of both kidneys. A few non-obstructing caliceal stones at right kidney.  No hydronephrosis or solid mass.\\n**IMPRESSION:**\\n- A few non-obstructing caliceal stones at right kidney.\\n```\\n\\n', metadata={'source': 'docs/report_template_abnormal.md'})"
      ]
     },
     "execution_count": 84,
     "metadata": {},
     "output_type": "execute_result"
    }
   ],
   "source": [
    "doc_abnormal[0]"
   ]
  },
  {
   "cell_type": "markdown",
   "metadata": {},
   "source": [
    "### Load Markdown Docs (Multiple)"
   ]
  },
  {
   "cell_type": "code",
   "execution_count": 114,
   "metadata": {},
   "outputs": [
    {
     "data": {
      "text/plain": [
       "[Document(page_content='# Kidney Findings\\n\\n\\nOrder findings as:\\n1. Kidney size and echogenicity\\n2. (If any) Renal cyst(s)\\n3. (If any) Renal stone, hydronephrosis, or solid mass.\\n\\n```markdown\\n**Kidneys:** <kidney_size_echo>. <renal_cyst>. <renal_stone_hydro_solid_mass>.\\n```\\n\\n\\n### (Chronic) Parenchymatous Kidney Disease\\n\\nDefinition: \\n\\n\"Parenchymatous kidney disease\" := normal kidney size but increased echogenicity. \\n\"Chronic parenchymatous kidney disease\" := small kidney size and increased echogenicity. \\n\\nIf one kidney is abnormal and the other is normal, report findings for each kidneys. \\n\\nHere is the format:\\n\\n```markdown\\n**Kidneys:** `[Normal | Small]` size with (mildly) increased parenchymal echogenicity of the `[right | left | both]` kidney(s). No stone, hydronephrosis or solid mass.\\n**IMPRESSION:**\\n- (Chronic) parenchymatous disease of `[right | left | both]` kidney(s).\\n```\\n\\nExamples:\\n\\n- Parenchymatous right kidney and normal left kidney:\\n\\n```markdown\\n**Kidneys:** Normal size with mildly increased parenchymal echogenicity of the right kidney. Normal size and parenchymal echogenicity of left kidney. No stone, hydronephrosis or solid mass.\\n**IMPRESSION:**\\n- Parenchymatous disease of right kidney.\\n```\\n\\n- Chronic parenchymatous of both kidneys:\\n\\n```markdown\\n**Kidneys:** Small size with increased parenchymal echogenicity of both kidneys. No stone, hydronephrosis or solid mass.\\n**IMPRESSION:**\\n- Chronic parenchymatous disease of both kidneys.\\n```\\n\\n### Renal Cyst(s)\\n\\nHere is how to report renal cyst according to Bosniak classification system.\\n\\n#### Bosniak 1 (Simple Cyst)\\n\\nUse this phase: \"simple cortical cyst(s)\" with <quantifier> as described in the english style guide.\\n\\n```markdown\\n**Kidneys:** Normal size and parenchymal echogenicity of both kidneys. <quantifier> simple cortical cyst(s) at `[right | left | both]` kidney(s). No stone, hydronephrosis or solid mass.\\n**IMPRESSION:**\\n- <quantifier> simple `[right | left | bilateral]` cyst(s)\\n```\\n\\nExamples:\\n\\n```markdown\\n**Kidneys:** Normal size and parenchymal echogenicity of both kidneys. A 0.5-cm simple cortical cyst at right kidney. No stone, hydronephrosis or solid mass.\\n**IMPRESSION:**\\n- A 0.5-cm simple right renal cyst.\\n```\\n\\n```markdown\\n**Kidneys:** Normal size and parenchymal echogenicity of both kidneys. A few simple cortical cysts at both kidneys, measuring up to 2.0 cm. No stone, hydronephrosis or solid mass.\\n**IMPRESSION:**\\n- A few simple bilateral renal cysts, measuring up to 2.0 cm.\\n```\\n\\n### Renal Stone\\n\\n```markdown\\n**Kidneys:** Normal size and parenchymal echogenicity of both kidneys. <quantifier> non-obstructing caliceal stone(s) at `[right | left | both]` kidney(s).  No hydronephrosis or solid mass.\\n**IMPRESSION:**\\n- <quantifier> non-obstructing caliceal stone(s) at `[right | left | both]` kidney(s)\\n```\\n\\nExamples:\\n\\n```markdown\\n**Kidneys:** Normal size and parenchymal echogenicity of both kidneys. A few non-obstructing caliceal stones at right kidney.  No hydronephrosis or solid mass.\\n**IMPRESSION:**\\n- A few non-obstructing caliceal stones at right kidney.\\n```\\n\\n', metadata={'source': 'docs/by_organs/abnormal_kidney.md'}),\n",
       " Document(page_content='# Liver Abnormal Findings\\n\\n### Parenchymatous Liver Disease\\n\\n```markdown\\n**Liver:** Normal size and (mildly) `[increased | coarse]` parenchymal echogenicity. No focal lesion.\\n**IMPRESSION:**\\n- (Mild) parenchymatous disease of the liver without focal lesion.\\n```\\n\\n### Fatty Liver\\n\\n#### Mild Fatty Liver\\n\\n```markdown\\n**Liver:** Normal size with mildly increased parenchymal echogenicity of the liver. No focal lesion.\\n**IMPRESSION:**\\n- Mild fatty liver without focal lesion.\\n```\\n\\n#### Moderate Fatty Liver\\n\\n```markdown\\n**Liver:** Normal size with diffusely increased parenchymal echogenicity of the liver, causing imparied visualization of intrahepatic vasculature. No focal lesion.\\n**IMPRESSION:**\\n- Moderate fatty liver without focal lesion.\\n```\\n\\n#### Severe Fatty Liver\\n\\n```markdown\\n**Liver:** Normal size with diffusely increased parenchymal echogenicity of the liver, causing imparied visualization of intrahepatic vasculature and right hemidiaphragm. No focal lesion.\\n**IMPRESSION:**\\n- Severe fatty liver without focal lesion.\\n```\\n\\n#### Focal Fat Sparing \\n\\nIf focal fat sparing area is present, add the following line in the `liver` field after the fatty liver sentence.\\n\\n```markdown\\n**Liver:** <fatty_liver_findings>. Geographic hypoechoic areas `[at | adjacent to]` `[periportal region | gallbladder fossa]`, likely a focal fat sparing.\\n**IMPRESSION:**\\n- <fatty_liver_impression> with focal fat sparing at <focal_fat_sparing_location>\\n```\\n\\nExample:\\n\\n```markdown\\n**Liver:** Normal size with mildly increased parenchymal echogenicity of the liver. Geographic hypoechoic areas at periportal region, likely a focal fat sparing. No gross mass.\\n**IMPRESSION:**\\n- Severe fatty liver with focal fat sparing at periportal region.\\n```\\n\\n### Cirrhosis\\n\\n```markdown\\n**Liver:** `[Normal size | Enlarged caudate lobe]` with diffusely coarsen parenchymal echogenicity and surface nodularity. Portal vein enlarged, measuring ___ cm. No focal lesion.\\n**Spleen:** `[Normal in size | Spleenomegaly]`.\\n**IMPRESSION:**\\n- Liver cirrhosis without focal lesion.\\n```', metadata={'source': 'docs/by_organs/abnormal_liver.md'}),\n",
       " Document(page_content='# Gallbladder Abnormal Findings\\n\\nOrder findings as:\\n1. Gallbladder distension\\n2. Gallbladder adenomyomatosis\\n3. Gallstone or bile sludge\\n\\n```markdown\\n**Gallbladder:** <gallbladder_distend>. <gallbladder_adeno>. <gallbladder_stone_or_sludge>.\\n```\\n\\n### Gallbladder Adenomyomatosis\\n\\n```markdown\\n**Gallbladder:** Focal adenomyomatosis of the gallbladder.\\n**IMPRESSION:** \\n- Focal adenomyomatosis of the gallbladder. \\n```\\n\\n### Gallstone(s)\\n\\n```markdown\\n**Gallbladder:** Distended gallbladder containing `[a ?-cm | a few | many ]` gallstone(s), (measuring up to ___ cm). No gallbladder wall thickening or pericholecystic fluid. No mass\\n**IMPRESSION:** \\n- `[a ?-cm | a few | many ]` gallstone(s) without evidence of cholecystitis \\n```\\n\\n### Bile sludge\\n\\n```markdown\\n**Gallbladder:** Distended gallbladder containing bile sludge. No gallbladder wall thickening or pericholecystic fluid. No stone or mass.\\n**IMPRESSION:**\\n- Bile sludge in gallbladder without evidence of cholecystitis\\n```\\n\\n### Post-cholecystectomy\\n\\n```markdown\\n**Gallbladder:** Surgically absent gallbladder.\\n```\\n\\n### Cholecystostomy\\n\\n```markdown\\n**Gallbladder:** Collapsed gallbladder with retained cholecystostomy tube. No stone.\\n**IMPRESSION:** \\n- Proper position of cholecystosmy tube within collapsed gallbladder.\\n```\\n\\n## Biliary Findings\\n\\n### Dilated CBD without cause\\n\\n```markdown\\n**Biliary system:** Dilated CBD, measures about ___ mm without demonstrable cause of obstruction. No intrahepatic ductal dilatation. \\n**IMPRESSION:** \\n- Dilated CBD without demonstrable cause of obstruction.\\n```', metadata={'source': 'docs/by_organs/abnormal_gallbladder.md'})]"
      ]
     },
     "execution_count": 114,
     "metadata": {},
     "output_type": "execute_result"
    }
   ],
   "source": [
    "## From Folders\n",
    "loader = DirectoryLoader(\"docs/by_organs\", glob=\"**/*.md\", loader_cls=TextLoader)\n",
    "docs = loader.load()\n",
    "len(docs)\n",
    "# docs[0].page_content\n",
    "# docs[0].metadata\n",
    "docs"
   ]
  },
  {
   "cell_type": "code",
   "execution_count": 124,
   "metadata": {},
   "outputs": [
    {
     "data": {
      "text/plain": [
       "{'abnormal_kidney': Document(page_content='# Kidney Findings\\n\\n\\nOrder findings as:\\n1. Kidney size and echogenicity\\n2. (If any) Renal cyst(s)\\n3. (If any) Renal stone, hydronephrosis, or solid mass.\\n\\n```markdown\\n**Kidneys:** <kidney_size_echo>. <renal_cyst>. <renal_stone_hydro_solid_mass>.\\n```\\n\\n\\n### (Chronic) Parenchymatous Kidney Disease\\n\\nDefinition: \\n\\n\"Parenchymatous kidney disease\" := normal kidney size but increased echogenicity. \\n\"Chronic parenchymatous kidney disease\" := small kidney size and increased echogenicity. \\n\\nIf one kidney is abnormal and the other is normal, report findings for each kidneys. \\n\\nHere is the format:\\n\\n```markdown\\n**Kidneys:** `[Normal | Small]` size with (mildly) increased parenchymal echogenicity of the `[right | left | both]` kidney(s). No stone, hydronephrosis or solid mass.\\n**IMPRESSION:**\\n- (Chronic) parenchymatous disease of `[right | left | both]` kidney(s).\\n```\\n\\nExamples:\\n\\n- Parenchymatous right kidney and normal left kidney:\\n\\n```markdown\\n**Kidneys:** Normal size with mildly increased parenchymal echogenicity of the right kidney. Normal size and parenchymal echogenicity of left kidney. No stone, hydronephrosis or solid mass.\\n**IMPRESSION:**\\n- Parenchymatous disease of right kidney.\\n```\\n\\n- Chronic parenchymatous of both kidneys:\\n\\n```markdown\\n**Kidneys:** Small size with increased parenchymal echogenicity of both kidneys. No stone, hydronephrosis or solid mass.\\n**IMPRESSION:**\\n- Chronic parenchymatous disease of both kidneys.\\n```\\n\\n### Renal Cyst(s)\\n\\nHere is how to report renal cyst according to Bosniak classification system.\\n\\n#### Bosniak 1 (Simple Cyst)\\n\\nUse this phase: \"simple cortical cyst(s)\" with <quantifier> as described in the english style guide.\\n\\n```markdown\\n**Kidneys:** Normal size and parenchymal echogenicity of both kidneys. <quantifier> simple cortical cyst(s) at `[right | left | both]` kidney(s). No stone, hydronephrosis or solid mass.\\n**IMPRESSION:**\\n- <quantifier> simple `[right | left | bilateral]` cyst(s)\\n```\\n\\nExamples:\\n\\n```markdown\\n**Kidneys:** Normal size and parenchymal echogenicity of both kidneys. A 0.5-cm simple cortical cyst at right kidney. No stone, hydronephrosis or solid mass.\\n**IMPRESSION:**\\n- A 0.5-cm simple right renal cyst.\\n```\\n\\n```markdown\\n**Kidneys:** Normal size and parenchymal echogenicity of both kidneys. A few simple cortical cysts at both kidneys, measuring up to 2.0 cm. No stone, hydronephrosis or solid mass.\\n**IMPRESSION:**\\n- A few simple bilateral renal cysts, measuring up to 2.0 cm.\\n```\\n\\n### Renal Stone\\n\\n```markdown\\n**Kidneys:** Normal size and parenchymal echogenicity of both kidneys. <quantifier> non-obstructing caliceal stone(s) at `[right | left | both]` kidney(s).  No hydronephrosis or solid mass.\\n**IMPRESSION:**\\n- <quantifier> non-obstructing caliceal stone(s) at `[right | left | both]` kidney(s)\\n```\\n\\nExamples:\\n\\n```markdown\\n**Kidneys:** Normal size and parenchymal echogenicity of both kidneys. A few non-obstructing caliceal stones at right kidney.  No hydronephrosis or solid mass.\\n**IMPRESSION:**\\n- A few non-obstructing caliceal stones at right kidney.\\n```\\n\\n', metadata={'source': 'docs/by_organs/abnormal_kidney.md'}),\n",
       " 'abnormal_liver': Document(page_content='# Liver Abnormal Findings\\n\\n### Parenchymatous Liver Disease\\n\\n```markdown\\n**Liver:** Normal size and (mildly) `[increased | coarse]` parenchymal echogenicity. No focal lesion.\\n**IMPRESSION:**\\n- (Mild) parenchymatous disease of the liver without focal lesion.\\n```\\n\\n### Fatty Liver\\n\\n#### Mild Fatty Liver\\n\\n```markdown\\n**Liver:** Normal size with mildly increased parenchymal echogenicity of the liver. No focal lesion.\\n**IMPRESSION:**\\n- Mild fatty liver without focal lesion.\\n```\\n\\n#### Moderate Fatty Liver\\n\\n```markdown\\n**Liver:** Normal size with diffusely increased parenchymal echogenicity of the liver, causing imparied visualization of intrahepatic vasculature. No focal lesion.\\n**IMPRESSION:**\\n- Moderate fatty liver without focal lesion.\\n```\\n\\n#### Severe Fatty Liver\\n\\n```markdown\\n**Liver:** Normal size with diffusely increased parenchymal echogenicity of the liver, causing imparied visualization of intrahepatic vasculature and right hemidiaphragm. No focal lesion.\\n**IMPRESSION:**\\n- Severe fatty liver without focal lesion.\\n```\\n\\n#### Focal Fat Sparing \\n\\nIf focal fat sparing area is present, add the following line in the `liver` field after the fatty liver sentence.\\n\\n```markdown\\n**Liver:** <fatty_liver_findings>. Geographic hypoechoic areas `[at | adjacent to]` `[periportal region | gallbladder fossa]`, likely a focal fat sparing.\\n**IMPRESSION:**\\n- <fatty_liver_impression> with focal fat sparing at <focal_fat_sparing_location>\\n```\\n\\nExample:\\n\\n```markdown\\n**Liver:** Normal size with mildly increased parenchymal echogenicity of the liver. Geographic hypoechoic areas at periportal region, likely a focal fat sparing. No gross mass.\\n**IMPRESSION:**\\n- Severe fatty liver with focal fat sparing at periportal region.\\n```\\n\\n### Cirrhosis\\n\\n```markdown\\n**Liver:** `[Normal size | Enlarged caudate lobe]` with diffusely coarsen parenchymal echogenicity and surface nodularity. Portal vein enlarged, measuring ___ cm. No focal lesion.\\n**Spleen:** `[Normal in size | Spleenomegaly]`.\\n**IMPRESSION:**\\n- Liver cirrhosis without focal lesion.\\n```', metadata={'source': 'docs/by_organs/abnormal_liver.md'}),\n",
       " 'abnormal_gallbladder': Document(page_content='# Gallbladder Abnormal Findings\\n\\nOrder findings as:\\n1. Gallbladder distension\\n2. Gallbladder adenomyomatosis\\n3. Gallstone or bile sludge\\n\\n```markdown\\n**Gallbladder:** <gallbladder_distend>. <gallbladder_adeno>. <gallbladder_stone_or_sludge>.\\n```\\n\\n### Gallbladder Adenomyomatosis\\n\\n```markdown\\n**Gallbladder:** Focal adenomyomatosis of the gallbladder.\\n**IMPRESSION:** \\n- Focal adenomyomatosis of the gallbladder. \\n```\\n\\n### Gallstone(s)\\n\\n```markdown\\n**Gallbladder:** Distended gallbladder containing `[a ?-cm | a few | many ]` gallstone(s), (measuring up to ___ cm). No gallbladder wall thickening or pericholecystic fluid. No mass\\n**IMPRESSION:** \\n- `[a ?-cm | a few | many ]` gallstone(s) without evidence of cholecystitis \\n```\\n\\n### Bile sludge\\n\\n```markdown\\n**Gallbladder:** Distended gallbladder containing bile sludge. No gallbladder wall thickening or pericholecystic fluid. No stone or mass.\\n**IMPRESSION:**\\n- Bile sludge in gallbladder without evidence of cholecystitis\\n```\\n\\n### Post-cholecystectomy\\n\\n```markdown\\n**Gallbladder:** Surgically absent gallbladder.\\n```\\n\\n### Cholecystostomy\\n\\n```markdown\\n**Gallbladder:** Collapsed gallbladder with retained cholecystostomy tube. No stone.\\n**IMPRESSION:** \\n- Proper position of cholecystosmy tube within collapsed gallbladder.\\n```\\n\\n## Biliary Findings\\n\\n### Dilated CBD without cause\\n\\n```markdown\\n**Biliary system:** Dilated CBD, measures about ___ mm without demonstrable cause of obstruction. No intrahepatic ductal dilatation. \\n**IMPRESSION:** \\n- Dilated CBD without demonstrable cause of obstruction.\\n```', metadata={'source': 'docs/by_organs/abnormal_gallbladder.md'})}"
      ]
     },
     "execution_count": 124,
     "metadata": {},
     "output_type": "execute_result"
    }
   ],
   "source": [
    "from pathlib import Path\n",
    "docs_names = [Path(doc.metadata[\"source\"]).stem for doc in docs]\n",
    "\n",
    "docs_dict = dict(zip(docs_names, docs))\n",
    "docs_dict"
   ]
  },
  {
   "cell_type": "markdown",
   "metadata": {},
   "source": [
    "### Split Markdown by Headers"
   ]
  },
  {
   "cell_type": "code",
   "execution_count": 248,
   "metadata": {},
   "outputs": [
    {
     "data": {
      "text/plain": [
       "{'abnormal_kidney': [Document(page_content='Order findings as:\\n1. Kidney size and echogenicity\\n2. (If any) Renal cyst(s)\\n3. (If any) Renal stone, hydronephrosis, or solid mass.  \\n```markdown\\n**Kidneys:** <kidney_size_echo>. <renal_cyst>. <renal_stone_hydro_solid_mass>.\\n```', metadata={'Header 1': 'Kidney Findings'}),\n",
       "  Document(page_content='Definition:  \\n\"Parenchymatous kidney disease\" := normal kidney size but increased echogenicity.\\n\"Chronic parenchymatous kidney disease\" := small kidney size and increased echogenicity.  \\nIf one kidney is abnormal and the other is normal, report findings for each kidneys.  \\nHere is the format:  \\n```markdown\\n**Kidneys:** `[Normal | Small]` size with (mildly) increased parenchymal echogenicity of the `[right | left | both]` kidney(s). No stone, hydronephrosis or solid mass.\\n**IMPRESSION:**\\n- (Chronic) parenchymatous disease of `[right | left | both]` kidney(s).\\n```  \\nExamples:  \\n- Parenchymatous right kidney and normal left kidney:  \\n```markdown\\n**Kidneys:** Normal size with mildly increased parenchymal echogenicity of the right kidney. Normal size and parenchymal echogenicity of left kidney. No stone, hydronephrosis or solid mass.\\n**IMPRESSION:**\\n- Parenchymatous disease of right kidney.\\n```  \\n- Chronic parenchymatous of both kidneys:  \\n```markdown\\n**Kidneys:** Small size with increased parenchymal echogenicity of both kidneys. No stone, hydronephrosis or solid mass.\\n**IMPRESSION:**\\n- Chronic parenchymatous disease of both kidneys.\\n```', metadata={'Header 1': 'Kidney Findings', 'Header 3': '(Chronic) Parenchymatous Kidney Disease'}),\n",
       "  Document(page_content='Here is how to report renal cyst according to Bosniak classification system.  \\n#### Bosniak 1 (Simple Cyst)  \\nUse this phase: \"simple cortical cyst(s)\" with <quantifier> as described in the english style guide.  \\n```markdown\\n**Kidneys:** Normal size and parenchymal echogenicity of both kidneys. <quantifier> simple cortical cyst(s) at `[right | left | both]` kidney(s). No stone, hydronephrosis or solid mass.\\n**IMPRESSION:**\\n- <quantifier> simple `[right | left | bilateral]` cyst(s)\\n```  \\nExamples:  \\n```markdown\\n**Kidneys:** Normal size and parenchymal echogenicity of both kidneys. A 0.5-cm simple cortical cyst at right kidney. No stone, hydronephrosis or solid mass.\\n**IMPRESSION:**\\n- A 0.5-cm simple right renal cyst.\\n```  \\n```markdown\\n**Kidneys:** Normal size and parenchymal echogenicity of both kidneys. A few simple cortical cysts at both kidneys, measuring up to 2.0 cm. No stone, hydronephrosis or solid mass.\\n**IMPRESSION:**\\n- A few simple bilateral renal cysts, measuring up to 2.0 cm.\\n```', metadata={'Header 1': 'Kidney Findings', 'Header 3': 'Renal Cyst(s)'}),\n",
       "  Document(page_content='```markdown\\n**Kidneys:** Normal size and parenchymal echogenicity of both kidneys. <quantifier> non-obstructing caliceal stone(s) at `[right | left | both]` kidney(s).  No hydronephrosis or solid mass.\\n**IMPRESSION:**\\n- <quantifier> non-obstructing caliceal stone(s) at `[right | left | both]` kidney(s)\\n```  \\nExamples:  \\n```markdown\\n**Kidneys:** Normal size and parenchymal echogenicity of both kidneys. A few non-obstructing caliceal stones at right kidney.  No hydronephrosis or solid mass.\\n**IMPRESSION:**\\n- A few non-obstructing caliceal stones at right kidney.\\n```', metadata={'Header 1': 'Kidney Findings', 'Header 3': 'Renal Stone'})],\n",
       " 'abnormal_liver': [Document(page_content='```markdown\\n**Liver:** Normal size and (mildly) `[increased | coarse]` parenchymal echogenicity. No focal lesion.\\n**IMPRESSION:**\\n- (Mild) parenchymatous disease of the liver without focal lesion.\\n```', metadata={'Header 1': 'Liver Abnormal Findings', 'Header 3': 'Parenchymatous Liver Disease'}),\n",
       "  Document(page_content='#### Mild Fatty Liver  \\n```markdown\\n**Liver:** Normal size with mildly increased parenchymal echogenicity of the liver. No focal lesion.\\n**IMPRESSION:**\\n- Mild fatty liver without focal lesion.\\n```  \\n#### Moderate Fatty Liver  \\n```markdown\\n**Liver:** Normal size with diffusely increased parenchymal echogenicity of the liver, causing imparied visualization of intrahepatic vasculature. No focal lesion.\\n**IMPRESSION:**\\n- Moderate fatty liver without focal lesion.\\n```  \\n#### Severe Fatty Liver  \\n```markdown\\n**Liver:** Normal size with diffusely increased parenchymal echogenicity of the liver, causing imparied visualization of intrahepatic vasculature and right hemidiaphragm. No focal lesion.\\n**IMPRESSION:**\\n- Severe fatty liver without focal lesion.\\n```  \\n#### Focal Fat Sparing  \\nIf focal fat sparing area is present, add the following line in the `liver` field after the fatty liver sentence.  \\n```markdown\\n**Liver:** <fatty_liver_findings>. Geographic hypoechoic areas `[at | adjacent to]` `[periportal region | gallbladder fossa]`, likely a focal fat sparing.\\n**IMPRESSION:**\\n- <fatty_liver_impression> with focal fat sparing at <focal_fat_sparing_location>\\n```  \\nExample:  \\n```markdown\\n**Liver:** Normal size with mildly increased parenchymal echogenicity of the liver. Geographic hypoechoic areas at periportal region, likely a focal fat sparing. No gross mass.\\n**IMPRESSION:**\\n- Severe fatty liver with focal fat sparing at periportal region.\\n```', metadata={'Header 1': 'Liver Abnormal Findings', 'Header 3': 'Fatty Liver'}),\n",
       "  Document(page_content='```markdown\\n**Liver:** `[Normal size | Enlarged caudate lobe]` with diffusely coarsen parenchymal echogenicity and surface nodularity. Portal vein enlarged, measuring ___ cm. No focal lesion.\\n**Spleen:** `[Normal in size | Spleenomegaly]`.\\n**IMPRESSION:**\\n- Liver cirrhosis without focal lesion.\\n```', metadata={'Header 1': 'Liver Abnormal Findings', 'Header 3': 'Cirrhosis'})],\n",
       " 'abnormal_gallbladder': [Document(page_content='Order findings as:\\n1. Gallbladder distension\\n2. Gallbladder adenomyomatosis\\n3. Gallstone or bile sludge  \\n```markdown\\n**Gallbladder:** <gallbladder_distend>. <gallbladder_adeno>. <gallbladder_stone_or_sludge>.\\n```', metadata={'Header 1': 'Gallbladder Abnormal Findings'}),\n",
       "  Document(page_content='```markdown\\n**Gallbladder:** Focal adenomyomatosis of the gallbladder.\\n**IMPRESSION:**\\n- Focal adenomyomatosis of the gallbladder.\\n```', metadata={'Header 1': 'Gallbladder Abnormal Findings', 'Header 3': 'Gallbladder Adenomyomatosis'}),\n",
       "  Document(page_content='```markdown\\n**Gallbladder:** Distended gallbladder containing `[a ?-cm | a few | many ]` gallstone(s), (measuring up to ___ cm). No gallbladder wall thickening or pericholecystic fluid. No mass\\n**IMPRESSION:**\\n- `[a ?-cm | a few | many ]` gallstone(s) without evidence of cholecystitis\\n```', metadata={'Header 1': 'Gallbladder Abnormal Findings', 'Header 3': 'Gallstone(s)'}),\n",
       "  Document(page_content='```markdown\\n**Gallbladder:** Distended gallbladder containing bile sludge. No gallbladder wall thickening or pericholecystic fluid. No stone or mass.\\n**IMPRESSION:**\\n- Bile sludge in gallbladder without evidence of cholecystitis\\n```', metadata={'Header 1': 'Gallbladder Abnormal Findings', 'Header 3': 'Bile sludge'}),\n",
       "  Document(page_content='```markdown\\n**Gallbladder:** Surgically absent gallbladder.\\n```', metadata={'Header 1': 'Gallbladder Abnormal Findings', 'Header 3': 'Post-cholecystectomy'}),\n",
       "  Document(page_content='```markdown\\n**Gallbladder:** Collapsed gallbladder with retained cholecystostomy tube. No stone.\\n**IMPRESSION:**\\n- Proper position of cholecystosmy tube within collapsed gallbladder.\\n```', metadata={'Header 1': 'Gallbladder Abnormal Findings', 'Header 3': 'Cholecystostomy'}),\n",
       "  Document(page_content='```markdown\\n**Biliary system:** Dilated CBD, measures about ___ mm without demonstrable cause of obstruction. No intrahepatic ductal dilatation.\\n**IMPRESSION:**\\n- Dilated CBD without demonstrable cause of obstruction.\\n```', metadata={'Header 1': 'Gallbladder Abnormal Findings', 'Header 2': 'Biliary Findings', 'Header 3': 'Dilated CBD without cause'})]}"
      ]
     },
     "execution_count": 248,
     "metadata": {},
     "output_type": "execute_result"
    }
   ],
   "source": [
    "from langchain_text_splitters import MarkdownHeaderTextSplitter\n",
    "\n",
    "headers_to_split_on = [\n",
    "    (\"#\", \"Header 1\"),\n",
    "    (\"##\", \"Header 2\"),\n",
    "    (\"###\", \"Header 3\"),\n",
    "]\n",
    "\n",
    "# MD splits\n",
    "markdown_splitter = MarkdownHeaderTextSplitter(\n",
    "    headers_to_split_on=headers_to_split_on, strip_headers=True\n",
    ")\n",
    "md_header_splits_dict = {name: markdown_splitter.split_text(doc.page_content) for name, doc in docs_dict.items()}\n",
    "md_header_splits_dict"
   ]
  },
  {
   "cell_type": "markdown",
   "metadata": {},
   "source": [
    "### Vector Store"
   ]
  },
  {
   "cell_type": "code",
   "execution_count": 249,
   "metadata": {},
   "outputs": [],
   "source": [
    "from langchain_chroma import Chroma\n",
    "from langchain_openai import OpenAIEmbeddings\n",
    "\n",
    "chroma_dict = {name: Chroma.from_documents(md_header_splits, embedding=OpenAIEmbeddings()) \n",
    "               for name, md_header_splits in md_header_splits_dict.items()}"
   ]
  },
  {
   "cell_type": "markdown",
   "metadata": {},
   "source": [
    "## Retriver"
   ]
  },
  {
   "cell_type": "code",
   "execution_count": 250,
   "metadata": {},
   "outputs": [
    {
     "data": {
      "text/plain": [
       "VectorStoreRetriever(tags=['Chroma', 'OpenAIEmbeddings'], vectorstore=<langchain_chroma.vectorstores.Chroma object at 0x16ad440a0>, search_kwargs={'k': 6})"
      ]
     },
     "execution_count": 250,
     "metadata": {},
     "output_type": "execute_result"
    }
   ],
   "source": [
    "retriever_dict = {\n",
    "    name: chroma.as_retriever(\n",
    "    search_type=\"similarity\",\n",
    "    # For Maximum diversity\n",
    "    search_kwargs={'k': 6},) \n",
    "    for name, chroma in chroma_dict.items()\n",
    "                  }\n",
    "\n",
    "retriever_dict[\"abnormal_gallbladder\"]"
   ]
  },
  {
   "cell_type": "code",
   "execution_count": 243,
   "metadata": {},
   "outputs": [
    {
     "data": {
      "text/plain": [
       "[Document(page_content='### Gallstone(s)  \\n```markdown\\n**Gallbladder:** Distended gallbladder containing `[a ?-cm | a few | many ]` gallstone(s), (measuring up to ___ cm). No gallbladder wall thickening or pericholecystic fluid. No mass\\n**IMPRESSION:**\\n- `[a ?-cm | a few | many ]` gallstone(s) without evidence of cholecystitis\\n```', metadata={'Header 1': 'Gallbladder Abnormal Findings', 'Header 3': 'Gallstone(s)'}),\n",
       " Document(page_content='```markdown\\n**Gallbladder:** Distended gallbladder containing `[a ?-cm | a few | many ]` gallstone(s), (measuring up to ___ cm). No gallbladder wall thickening or pericholecystic fluid. No mass\\n**IMPRESSION:**\\n- `[a ?-cm | a few | many ]` gallstone(s) without evidence of cholecystitis\\n```', metadata={'Header 1': 'Abnormal Findings', 'Header 2': 'Gallbladder Findings', 'Header 3': 'Gallstone(s)'}),\n",
       " Document(page_content='```markdown\\n**Gallbladder:** Distended gallbladder containing `[a ?-cm | a few | many ]` gallstone(s), (measuring up to ___ cm). No gallbladder wall thickening or pericholecystic fluid. No mass\\n**IMPRESSION:**\\n- `[a ?-cm | a few | many ]` gallstone(s) without evidence of cholecystitis\\n```', metadata={'Header 1': 'Gallbladder Abnormal Findings', 'Header 3': 'Gallstone(s)'}),\n",
       " Document(page_content='```markdown\\n**Gallbladder:** Collapsed gallbladder with retained cholecystostomy tube. No stone.\\n**IMPRESSION:**\\n- Proper position of cholecystosmy tube within collapsed gallbladder.\\n```', metadata={'Header 1': 'Abnormal Findings', 'Header 2': 'Gallbladder Findings', 'Header 3': 'Cholecystostomy'}),\n",
       " Document(page_content='```markdown\\n**Gallbladder:** Collapsed gallbladder with retained cholecystostomy tube. No stone.\\n**IMPRESSION:**\\n- Proper position of cholecystosmy tube within collapsed gallbladder.\\n```', metadata={'Header 1': 'Gallbladder Abnormal Findings', 'Header 3': 'Cholecystostomy'}),\n",
       " Document(page_content='```markdown\\n**Gallbladder:** Distended gallbladder containing bile sludge. No gallbladder wall thickening or pericholecystic fluid. No stone or mass.\\n**IMPRESSION:**\\n- Bile sludge in gallbladder without evidence of cholecystitis\\n```', metadata={'Header 1': 'Gallbladder Abnormal Findings', 'Header 3': 'Bile sludge'})]"
      ]
     },
     "execution_count": 243,
     "metadata": {},
     "output_type": "execute_result"
    }
   ],
   "source": [
    "retriever_dict[\"abnormal_gallbladder\"].invoke(\"What is template for gallstone?\")"
   ]
  },
  {
   "cell_type": "code",
   "execution_count": 244,
   "metadata": {},
   "outputs": [
    {
     "data": {
      "text/plain": [
       "[Document(page_content='Order findings as:\\n1. Kidney size and echogenicity\\n2. (If any) Renal cyst(s)\\n3. (If any) Renal stone, hydronephrosis, or solid mass.  \\n```markdown\\n**Kidneys:** <kidney_size_echo>. <renal_cyst>. <renal_stone_hydro_solid_mass>.\\n```', metadata={'Header 1': 'Abnormal Findings', 'Header 2': 'Kidney Findings'}),\n",
       " Document(page_content='Order findings as:\\n1. Kidney size and echogenicity\\n2. (If any) Renal cyst(s)\\n3. (If any) Renal stone, hydronephrosis, or solid mass.  \\n```markdown\\n**Kidneys:** <kidney_size_echo>. <renal_cyst>. <renal_stone_hydro_solid_mass>.\\n```', metadata={'Header 1': 'Kidney Findings'}),\n",
       " Document(page_content='### Renal Stone  \\n```markdown\\n**Kidneys:** Normal size and parenchymal echogenicity of both kidneys. <quantifier> non-obstructing caliceal stone(s) at `[right | left | both]` kidney(s).  No hydronephrosis or solid mass.\\n**IMPRESSION:**\\n- <quantifier> non-obstructing caliceal stone(s) at `[right | left | both]` kidney(s)\\n```  \\nExamples:  \\n```markdown\\n**Kidneys:** Normal size and parenchymal echogenicity of both kidneys. A few non-obstructing caliceal stones at right kidney.  No hydronephrosis or solid mass.\\n**IMPRESSION:**\\n- A few non-obstructing caliceal stones at right kidney.\\n```', metadata={'Header 1': 'Kidney Findings', 'Header 3': 'Renal Stone'}),\n",
       " Document(page_content='Here is how to report renal cyst according to Bosniak classification system.', metadata={'Header 1': 'Kidney Findings', 'Header 3': 'Renal Cyst(s)'}),\n",
       " Document(page_content='Here is how to report renal cyst according to Bosniak classification system.', metadata={'Header 1': 'Abnormal Findings', 'Header 2': 'Kidney Findings', 'Header 3': 'Renal Cyst(s)'}),\n",
       " Document(page_content='# Kidney Findings  \\nOrder findings as:\\n1. Kidney size and echogenicity\\n2. (If any) Renal cyst(s)\\n3. (If any) Renal stone, hydronephrosis, or solid mass.  \\n```markdown\\n**Kidneys:** <kidney_size_echo>. <renal_cyst>. <renal_stone_hydro_solid_mass>.\\n```', metadata={'Header 1': 'Kidney Findings'})]"
      ]
     },
     "execution_count": 244,
     "metadata": {},
     "output_type": "execute_result"
    }
   ],
   "source": [
    "retriever_dict[\"abnormal_kidney\"].invoke(\"Find renal stones template\")"
   ]
  },
  {
   "cell_type": "markdown",
   "metadata": {},
   "source": [
    "## Chain "
   ]
  },
  {
   "cell_type": "code",
   "execution_count": 231,
   "metadata": {},
   "outputs": [],
   "source": [
    "llm = ChatOpenAI(model=\"gpt-3.5-turbo\")"
   ]
  },
  {
   "cell_type": "code",
   "execution_count": 252,
   "metadata": {},
   "outputs": [],
   "source": [
    "def format_docs(docs):\n",
    "    return \"\\n\\n\".join(doc.page_content for doc in docs)\n",
    "\n",
    "rag_chain = (\n",
    "    {\"abnormal_gallbladder\": retriever_dict[\"abnormal_gallbladder\"] | format_docs,\n",
    "     \"abnormal_kidney\": retriever_dict[\"abnormal_kidney\"] | format_docs,\n",
    "     \"abnormal_liver\": retriever_dict[\"abnormal_liver\"] | format_docs,\n",
    "     \"user\": RunnablePassthrough()\n",
    "     }\n",
    "    | pr_temp\n",
    "    | llm\n",
    "    | StrOutputParser()\n",
    ")"
   ]
  },
  {
   "cell_type": "markdown",
   "metadata": {},
   "source": [
    "## Execute !"
   ]
  },
  {
   "cell_type": "code",
   "execution_count": 253,
   "metadata": {},
   "outputs": [
    {
     "name": "stdout",
     "output_type": "stream",
     "text": [
      "**US OF THE UPPER ABDOMEN**\n",
      "\n",
      "**FINDINGS:**\n",
      "\n",
      "**Liver:** Normal size and parenchymal echogenicity. No focal lesion.\n",
      "**Biliary system:** CBD size ___ mm. No intrahepatic ductal dilatation.\n",
      "**Gallbladder:** Well-distended gallbladder. No stone or mass.\n",
      "**Spleen:** Normal in size.\n",
      "**Pancreas:** Visualized portions are unremarkable.\n",
      "**Kidneys:** Normal size and parenchymal echogenicity of both kidneys. No stone, hydronephrosis or solid mass.\n",
      "**Aorta:** Normal caliber.\n",
      "\n",
      "**IMPRESSION:**\n",
      "- Normal liver parenchyma without focal lesion.\n"
     ]
    }
   ],
   "source": [
    "res0 = rag_chain.invoke(\"Generate normal US report\")\n",
    "print(res0)"
   ]
  },
  {
   "cell_type": "code",
   "execution_count": 254,
   "metadata": {},
   "outputs": [
    {
     "name": "stdout",
     "output_type": "stream",
     "text": [
      "**US OF THE UPPER ABDOMEN**\n",
      "\n",
      "**FINDINGS:**\n",
      "\n",
      "**Liver:** Normal size with diffusely increased parenchymal echogenicity of the liver, causing impaired visualization of intrahepatic vasculature and right hemidiaphragm. No focal lesion.\n",
      "**Biliary system:** CBD size ___ mm. No intrahepatic ductal dilatation.\n",
      "**Gallbladder:** Well-distended gallbladder. No stone or mass.\n",
      "**Spleen:** Normal in size.\n",
      "**Pancreas:** Visualized portions are unremarkable.\n",
      "**Kidneys:** Normal size and parenchymal echogenicity of both kidneys. No stone, hydronephrosis or solid mass.\n",
      "**Aorta:** Normal caliber.\n",
      "\n",
      "**IMPRESSION:**\n",
      "- Severe fatty liver without focal lesion.\n"
     ]
    }
   ],
   "source": [
    "pr_user_upper1 = \"\"\"Generate US report with these findings:\n",
    "- Severe fatty liver\n",
    "\"\"\"\n",
    "res1 = rag_chain.invoke(pr_user_upper1)\n",
    "print(res1)"
   ]
  },
  {
   "cell_type": "code",
   "execution_count": 255,
   "metadata": {},
   "outputs": [
    {
     "name": "stdout",
     "output_type": "stream",
     "text": [
      "**US OF THE UPPER ABDOMEN**\n",
      "\n",
      "**FINDINGS:**\n",
      "\n",
      "**Liver:** Normal size with diffusely increased parenchymal echogenicity of the liver, causing impaired visualization of intrahepatic vasculature and right hemidiaphragm. No focal lesion.\n",
      "**Biliary system:** Dilated CBD, measures about 3 mm without demonstrable cause of obstruction. No intrahepatic ductal dilatation.\n",
      "**Gallbladder:** Well-distended gallbladder. No stone or mass.\n",
      "**Spleen:** Normal in size.\n",
      "**Pancreas:** Visualized portions are unremarkable.\n",
      "**Kidneys:** Small size with increased parenchymal echogenicity of both kidneys. A 3-cm simple left renal cyst. No stone, hydronephrosis or solid mass.\n",
      "**Aorta:** Normal caliber.\n",
      "\n",
      "**IMPRESSION:**\n",
      "- Severe fatty liver with impaired visualization of intrahepatic vasculature and right hemidiaphragm.\n",
      "- Chronic parenchymatous disease of both kidneys.\n"
     ]
    }
   ],
   "source": [
    "pr_user_upper2 = \"\"\"Generate US report with these findings:\n",
    "- Severe fatty liver, CBD 3 mm\n",
    "- Chronic parenchymatous both kidneys\n",
    "- A 3-cm simple left renal cyst \n",
    "\"\"\"\n",
    "# Not all\n",
    "res2 = rag_chain.invoke(pr_user_upper2)\n",
    "print(res2)"
   ]
  }
 ],
 "metadata": {
  "kernelspec": {
   "display_name": "Python 3",
   "language": "python",
   "name": "python3"
  },
  "language_info": {
   "codemirror_mode": {
    "name": "ipython",
    "version": 3
   },
   "file_extension": ".py",
   "mimetype": "text/x-python",
   "name": "python",
   "nbconvert_exporter": "python",
   "pygments_lexer": "ipython3",
   "version": "3.10.10"
  }
 },
 "nbformat": 4,
 "nbformat_minor": 2
}
